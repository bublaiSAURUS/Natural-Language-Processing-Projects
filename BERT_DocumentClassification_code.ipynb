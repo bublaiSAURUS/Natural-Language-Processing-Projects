{
 "cells": [
  {
   "cell_type": "code",
   "execution_count": null,
   "metadata": {
    "_cell_guid": "b1076dfc-b9ad-4769-8c92-a6c4dae69d19",
    "_uuid": "8f2839f25d086af736a60e9eeb907d3b93b6e0e5",
    "trusted": true
   },
   "outputs": [],
   "source": [
    "# This Python 3 environment comes with many helpful analytics libraries installed\n",
    "# It is defined by the kaggle/python Docker image: https://github.com/kaggle/docker-python\n",
    "# For example, here's several helpful packages to load\n",
    "\n",
    "import numpy as np # linear algebra\n",
    "import pandas as pd # data processing, CSV file I/O (e.g. pd.read_csv)\n",
    "\n",
    "# Input data files are available in the read-only \"../input/\" directory\n",
    "# For example, running this (by clicking run or pressing Shift+Enter) will list all files under the input directory\n",
    "\n",
    "import os\n",
    "for dirname, _, filenames in os.walk('/kaggle/input'):\n",
    "    for filename in filenames:\n",
    "        print(os.path.join(dirname, filename))\n",
    "\n",
    "# You can write up to 20GB to the current directory (/kaggle/working/) that gets preserved as output when you create a version using \"Save & Run All\" \n",
    "# You can also write temporary files to /kaggle/temp/, but they won't be saved outside of the current session"
   ]
  },
  {
   "cell_type": "markdown",
   "metadata": {},
   "source": [
    "##  Preferrably Run on Kaggle!!"
   ]
  },
  {
   "cell_type": "markdown",
   "metadata": {},
   "source": [
    "# Importing Dependencies"
   ]
  },
  {
   "cell_type": "code",
   "execution_count": 2,
   "metadata": {
    "execution": {
     "iopub.execute_input": "2024-11-26T14:39:59.119850Z",
     "iopub.status.busy": "2024-11-26T14:39:59.118940Z",
     "iopub.status.idle": "2024-11-26T14:40:02.186693Z",
     "shell.execute_reply": "2024-11-26T14:40:02.185973Z",
     "shell.execute_reply.started": "2024-11-26T14:39:59.119816Z"
    },
    "trusted": true
   },
   "outputs": [],
   "source": [
    "import torch\n",
    "import torch.nn as nn\n",
    "import pandas as pd\n",
    "import numpy as np\n",
    "import shutil\n",
    "import sys\n",
    "import re\n",
    "import string"
   ]
  },
  {
   "cell_type": "code",
   "execution_count": 3,
   "metadata": {
    "execution": {
     "iopub.execute_input": "2024-11-26T14:40:05.721825Z",
     "iopub.status.busy": "2024-11-26T14:40:05.721360Z",
     "iopub.status.idle": "2024-11-26T14:40:05.904247Z",
     "shell.execute_reply": "2024-11-26T14:40:05.903560Z",
     "shell.execute_reply.started": "2024-11-26T14:40:05.721792Z"
    },
    "trusted": true
   },
   "outputs": [],
   "source": [
    "import seaborn as sns\n",
    "import matplotlib.pyplot as plt"
   ]
  },
  {
   "cell_type": "code",
   "execution_count": 4,
   "metadata": {
    "execution": {
     "iopub.execute_input": "2024-11-26T14:40:08.809675Z",
     "iopub.status.busy": "2024-11-26T14:40:08.809217Z",
     "iopub.status.idle": "2024-11-26T14:40:08.814089Z",
     "shell.execute_reply": "2024-11-26T14:40:08.813097Z",
     "shell.execute_reply.started": "2024-11-26T14:40:08.809646Z"
    },
    "trusted": true
   },
   "outputs": [],
   "source": [
    "from sklearn.utils.class_weight import compute_class_weight\n",
    "import nltk\n",
    "import optuna"
   ]
  },
  {
   "cell_type": "code",
   "execution_count": 5,
   "metadata": {
    "execution": {
     "iopub.execute_input": "2024-11-26T14:40:12.049699Z",
     "iopub.status.busy": "2024-11-26T14:40:12.049352Z",
     "iopub.status.idle": "2024-11-26T14:40:13.551485Z",
     "shell.execute_reply": "2024-11-26T14:40:13.550778Z",
     "shell.execute_reply.started": "2024-11-26T14:40:12.049669Z"
    },
    "trusted": true
   },
   "outputs": [],
   "source": [
    "from transformers import BertTokenizer, BertModel"
   ]
  },
  {
   "cell_type": "markdown",
   "metadata": {},
   "source": [
    "Downloading Necessary packages"
   ]
  },
  {
   "cell_type": "code",
   "execution_count": 6,
   "metadata": {
    "execution": {
     "iopub.execute_input": "2024-11-26T14:40:20.735015Z",
     "iopub.status.busy": "2024-11-26T14:40:20.734027Z",
     "iopub.status.idle": "2024-11-26T14:40:21.097240Z",
     "shell.execute_reply": "2024-11-26T14:40:21.096439Z",
     "shell.execute_reply.started": "2024-11-26T14:40:20.734979Z"
    },
    "trusted": true
   },
   "outputs": [
    {
     "name": "stdout",
     "output_type": "stream",
     "text": [
      "[nltk_data] Downloading package punkt to /usr/share/nltk_data...\n",
      "[nltk_data]   Package punkt is already up-to-date!\n",
      "[nltk_data] Downloading package stopwords to /usr/share/nltk_data...\n",
      "[nltk_data]   Package stopwords is already up-to-date!\n",
      "[nltk_data] Downloading package punkt_tab to /usr/share/nltk_data...\n",
      "[nltk_data]   Unzipping tokenizers/punkt_tab.zip.\n"
     ]
    },
    {
     "data": {
      "text/plain": [
       "True"
      ]
     },
     "execution_count": 6,
     "metadata": {},
     "output_type": "execute_result"
    }
   ],
   "source": [
    "nltk.download('punkt')  # For tokenization\n",
    "nltk.download('stopwords')  # For stopword removal\n",
    "nltk.download('punkt_tab')"
   ]
  },
  {
   "cell_type": "markdown",
   "metadata": {},
   "source": [
    "### Preprocessing Method for Plot Synopsis"
   ]
  },
  {
   "cell_type": "code",
   "execution_count": 7,
   "metadata": {
    "execution": {
     "iopub.execute_input": "2024-11-26T14:40:23.757773Z",
     "iopub.status.busy": "2024-11-26T14:40:23.757451Z",
     "iopub.status.idle": "2024-11-26T14:40:23.763125Z",
     "shell.execute_reply": "2024-11-26T14:40:23.762254Z",
     "shell.execute_reply.started": "2024-11-26T14:40:23.757747Z"
    },
    "trusted": true
   },
   "outputs": [],
   "source": [
    "def clean_text(text):\n",
    "    text = text.lower()                                  # lower-case all characters\n",
    "    text =  re.sub(r\"[^ a-zA-Z]\", ' ',text)             # only keeps characters\n",
    "    text = \"\".join([i for i in text if i not in string.punctuation])\n",
    "    words = nltk.tokenize.word_tokenize(text)\n",
    "    stopwords = nltk.corpus.stopwords.words('english')\n",
    "    text = \" \".join([i for i in words if i not in stopwords and len(i)>1]) # keep words with length>1 only\n",
    "    return text"
   ]
  },
  {
   "cell_type": "code",
   "execution_count": 8,
   "metadata": {
    "execution": {
     "iopub.execute_input": "2024-11-26T14:40:26.324906Z",
     "iopub.status.busy": "2024-11-26T14:40:26.323942Z",
     "iopub.status.idle": "2024-11-26T14:40:26.391578Z",
     "shell.execute_reply": "2024-11-26T14:40:26.390679Z",
     "shell.execute_reply.started": "2024-11-26T14:40:26.324852Z"
    },
    "trusted": true
   },
   "outputs": [
    {
     "data": {
      "text/plain": [
       "device(type='cuda')"
      ]
     },
     "execution_count": 8,
     "metadata": {},
     "output_type": "execute_result"
    }
   ],
   "source": [
    "device = torch.device('cuda') if torch.cuda.is_available() else torch.device('cpu')\n",
    "device"
   ]
  },
  {
   "cell_type": "code",
   "execution_count": 9,
   "metadata": {
    "execution": {
     "iopub.execute_input": "2024-11-26T14:40:29.522413Z",
     "iopub.status.busy": "2024-11-26T14:40:29.521497Z",
     "iopub.status.idle": "2024-11-26T14:40:30.642309Z",
     "shell.execute_reply": "2024-11-26T14:40:30.641364Z",
     "shell.execute_reply.started": "2024-11-26T14:40:29.522362Z"
    },
    "trusted": true
   },
   "outputs": [],
   "source": [
    "train_df = pd.read_csv('/kaggle/input/cw2-training-dataset/CW2-training-dataset.csv')"
   ]
  },
  {
   "cell_type": "code",
   "execution_count": 10,
   "metadata": {
    "execution": {
     "iopub.execute_input": "2024-11-26T14:40:33.081389Z",
     "iopub.status.busy": "2024-11-26T14:40:33.080584Z",
     "iopub.status.idle": "2024-11-26T14:40:33.109688Z",
     "shell.execute_reply": "2024-11-26T14:40:33.108842Z",
     "shell.execute_reply.started": "2024-11-26T14:40:33.081355Z"
    },
    "trusted": true
   },
   "outputs": [
    {
     "name": "stdout",
     "output_type": "stream",
     "text": [
      "<class 'pandas.core.frame.DataFrame'>\n",
      "RangeIndex: 8257 entries, 0 to 8256\n",
      "Data columns (total 12 columns):\n",
      " #   Column         Non-Null Count  Dtype \n",
      "---  ------         --------------  ----- \n",
      " 0   ID             8257 non-null   object\n",
      " 1   title          8257 non-null   object\n",
      " 2   plot_synopsis  8257 non-null   object\n",
      " 3   comedy         8257 non-null   int64 \n",
      " 4   cult           8257 non-null   int64 \n",
      " 5   flashback      8257 non-null   int64 \n",
      " 6   historical     8257 non-null   int64 \n",
      " 7   murder         8257 non-null   int64 \n",
      " 8   revenge        8257 non-null   int64 \n",
      " 9   romantic       8257 non-null   int64 \n",
      " 10  scifi          8257 non-null   int64 \n",
      " 11  violence       8257 non-null   int64 \n",
      "dtypes: int64(9), object(3)\n",
      "memory usage: 774.2+ KB\n"
     ]
    }
   ],
   "source": [
    "train_df.info()"
   ]
  },
  {
   "cell_type": "markdown",
   "metadata": {},
   "source": [
    "## Data Visualization"
   ]
  },
  {
   "cell_type": "code",
   "execution_count": 11,
   "metadata": {
    "execution": {
     "iopub.execute_input": "2024-11-26T14:40:36.248433Z",
     "iopub.status.busy": "2024-11-26T14:40:36.247594Z",
     "iopub.status.idle": "2024-11-26T14:40:36.271497Z",
     "shell.execute_reply": "2024-11-26T14:40:36.270537Z",
     "shell.execute_reply.started": "2024-11-26T14:40:36.248383Z"
    },
    "trusted": true
   },
   "outputs": [
    {
     "data": {
      "text/html": [
       "<div>\n",
       "<style scoped>\n",
       "    .dataframe tbody tr th:only-of-type {\n",
       "        vertical-align: middle;\n",
       "    }\n",
       "\n",
       "    .dataframe tbody tr th {\n",
       "        vertical-align: top;\n",
       "    }\n",
       "\n",
       "    .dataframe thead th {\n",
       "        text-align: right;\n",
       "    }\n",
       "</style>\n",
       "<table border=\"1\" class=\"dataframe\">\n",
       "  <thead>\n",
       "    <tr style=\"text-align: right;\">\n",
       "      <th></th>\n",
       "      <th>cat</th>\n",
       "      <th>count</th>\n",
       "    </tr>\n",
       "  </thead>\n",
       "  <tbody>\n",
       "    <tr>\n",
       "      <th>0</th>\n",
       "      <td>murder</td>\n",
       "      <td>4019</td>\n",
       "    </tr>\n",
       "    <tr>\n",
       "      <th>1</th>\n",
       "      <td>violence</td>\n",
       "      <td>3064</td>\n",
       "    </tr>\n",
       "    <tr>\n",
       "      <th>2</th>\n",
       "      <td>romantic</td>\n",
       "      <td>2006</td>\n",
       "    </tr>\n",
       "    <tr>\n",
       "      <th>3</th>\n",
       "      <td>flashback</td>\n",
       "      <td>1994</td>\n",
       "    </tr>\n",
       "    <tr>\n",
       "      <th>4</th>\n",
       "      <td>cult</td>\n",
       "      <td>1801</td>\n",
       "    </tr>\n",
       "    <tr>\n",
       "      <th>5</th>\n",
       "      <td>revenge</td>\n",
       "      <td>1657</td>\n",
       "    </tr>\n",
       "    <tr>\n",
       "      <th>6</th>\n",
       "      <td>comedy</td>\n",
       "      <td>1262</td>\n",
       "    </tr>\n",
       "    <tr>\n",
       "      <th>7</th>\n",
       "      <td>scifi</td>\n",
       "      <td>204</td>\n",
       "    </tr>\n",
       "    <tr>\n",
       "      <th>8</th>\n",
       "      <td>historical</td>\n",
       "      <td>186</td>\n",
       "    </tr>\n",
       "  </tbody>\n",
       "</table>\n",
       "</div>"
      ],
      "text/plain": [
       "          cat  count\n",
       "0      murder   4019\n",
       "1    violence   3064\n",
       "2    romantic   2006\n",
       "3   flashback   1994\n",
       "4        cult   1801\n",
       "5     revenge   1657\n",
       "6      comedy   1262\n",
       "7       scifi    204\n",
       "8  historical    186"
      ]
     },
     "execution_count": 11,
     "metadata": {},
     "output_type": "execute_result"
    }
   ],
   "source": [
    "bar_plot = pd.DataFrame()\n",
    "bar_plot['cat'] = train_df.columns[3:]\n",
    "bar_plot['count'] = train_df.iloc[:,3:].sum().values\n",
    "bar_plot.sort_values(['count'], inplace=True, ascending=False)\n",
    "bar_plot.reset_index(inplace=True, drop=True)\n",
    "bar_plot.head(9)"
   ]
  },
  {
   "cell_type": "code",
   "execution_count": 12,
   "metadata": {
    "execution": {
     "iopub.execute_input": "2024-11-26T14:40:39.133476Z",
     "iopub.status.busy": "2024-11-26T14:40:39.133137Z",
     "iopub.status.idle": "2024-11-26T14:40:39.567744Z",
     "shell.execute_reply": "2024-11-26T14:40:39.566838Z",
     "shell.execute_reply.started": "2024-11-26T14:40:39.133447Z"
    },
    "trusted": true
   },
   "outputs": [
    {
     "data": {
      "image/png": "[encoded data removed]",
      "text/plain": [
       "<Figure size 1500x800 with 1 Axes>"
      ]
     },
     "metadata": {},
     "output_type": "display_data"
    }
   ],
   "source": [
    "threshold = 1500\n",
    "plt.figure(figsize=(15,8))\n",
    "sns.set(font_scale = 1.5)\n",
    "sns.set_style('whitegrid')\n",
    "\n",
    "\n",
    "pal = sns.color_palette(\"Blues_r\", len(bar_plot))\n",
    "rank = bar_plot['count'].argsort().argsort()\n",
    "\n",
    "sns.barplot(x='cat',\n",
    "    y='count',\n",
    "    data=bar_plot,\n",
    "    palette=np.array(pal[::-1])[rank])\n",
    "\n",
    "plt.axhline(threshold, ls='--', c='red')\n",
    "plt.title(\"Most commons categories\", fontsize=24)\n",
    "plt.ylabel('Number of titles', fontsize=18)\n",
    "plt.xlabel('Genre', fontsize=18)\n",
    "plt.xticks(rotation='vertical')\n",
    "\n",
    "plt.show()"
   ]
  },
  {
   "cell_type": "code",
   "execution_count": 13,
   "metadata": {
    "execution": {
     "iopub.execute_input": "2024-11-26T14:40:42.982800Z",
     "iopub.status.busy": "2024-11-26T14:40:42.982468Z",
     "iopub.status.idle": "2024-11-26T14:40:42.990740Z",
     "shell.execute_reply": "2024-11-26T14:40:42.989818Z",
     "shell.execute_reply.started": "2024-11-26T14:40:42.982770Z"
    },
    "trusted": true
   },
   "outputs": [
    {
     "data": {
      "text/plain": [
       "Index(['plot_synopsis', 'comedy', 'cult', 'flashback', 'historical', 'murder',\n",
       "       'revenge', 'romantic', 'scifi', 'violence'],\n",
       "      dtype='object')"
      ]
     },
     "execution_count": 13,
     "metadata": {},
     "output_type": "execute_result"
    }
   ],
   "source": [
    "train_df = train_df.drop(['ID', 'title'],axis= 1)\n",
    "train_df.columns"
   ]
  },
  {
   "cell_type": "code",
   "execution_count": 14,
   "metadata": {
    "execution": {
     "iopub.execute_input": "2024-11-26T14:40:45.454124Z",
     "iopub.status.busy": "2024-11-26T14:40:45.453782Z",
     "iopub.status.idle": "2024-11-26T14:41:22.935252Z",
     "shell.execute_reply": "2024-11-26T14:41:22.934565Z",
     "shell.execute_reply.started": "2024-11-26T14:40:45.454095Z"
    },
    "trusted": true
   },
   "outputs": [],
   "source": [
    "train_df['plot_synopsis'] = train_df['plot_synopsis'].apply(clean_text)"
   ]
  },
  {
   "cell_type": "code",
   "execution_count": 17,
   "metadata": {
    "execution": {
     "iopub.execute_input": "2024-11-26T14:41:36.271973Z",
     "iopub.status.busy": "2024-11-26T14:41:36.271571Z",
     "iopub.status.idle": "2024-11-26T14:41:36.281491Z",
     "shell.execute_reply": "2024-11-26T14:41:36.280508Z",
     "shell.execute_reply.started": "2024-11-26T14:41:36.271938Z"
    },
    "trusted": true
   },
   "outputs": [
    {
     "data": {
      "text/html": [
       "<div>\n",
       "<style scoped>\n",
       "    .dataframe tbody tr th:only-of-type {\n",
       "        vertical-align: middle;\n",
       "    }\n",
       "\n",
       "    .dataframe tbody tr th {\n",
       "        vertical-align: top;\n",
       "    }\n",
       "\n",
       "    .dataframe thead th {\n",
       "        text-align: right;\n",
       "    }\n",
       "</style>\n",
       "<table border=\"1\" class=\"dataframe\">\n",
       "  <thead>\n",
       "    <tr style=\"text-align: right;\">\n",
       "      <th></th>\n",
       "      <th>plot_synopsis</th>\n",
       "      <th>comedy</th>\n",
       "      <th>cult</th>\n",
       "      <th>flashback</th>\n",
       "      <th>historical</th>\n",
       "      <th>murder</th>\n",
       "      <th>revenge</th>\n",
       "      <th>romantic</th>\n",
       "      <th>scifi</th>\n",
       "      <th>violence</th>\n",
       "    </tr>\n",
       "  </thead>\n",
       "  <tbody>\n",
       "    <tr>\n",
       "      <th>0</th>\n",
       "      <td>recent amount challenges billy lo bruce lee fr...</td>\n",
       "      <td>0</td>\n",
       "      <td>0</td>\n",
       "      <td>0</td>\n",
       "      <td>0</td>\n",
       "      <td>1</td>\n",
       "      <td>1</td>\n",
       "      <td>0</td>\n",
       "      <td>0</td>\n",
       "      <td>1</td>\n",
       "    </tr>\n",
       "    <tr>\n",
       "      <th>1</th>\n",
       "      <td>crime ridden city tremont renowned investigati...</td>\n",
       "      <td>0</td>\n",
       "      <td>0</td>\n",
       "      <td>0</td>\n",
       "      <td>0</td>\n",
       "      <td>1</td>\n",
       "      <td>1</td>\n",
       "      <td>1</td>\n",
       "      <td>0</td>\n",
       "      <td>1</td>\n",
       "    </tr>\n",
       "  </tbody>\n",
       "</table>\n",
       "</div>"
      ],
      "text/plain": [
       "                                       plot_synopsis  comedy  cult  flashback  \\\n",
       "0  recent amount challenges billy lo bruce lee fr...       0     0          0   \n",
       "1  crime ridden city tremont renowned investigati...       0     0          0   \n",
       "\n",
       "   historical  murder  revenge  romantic  scifi  violence  \n",
       "0           0       1        1         0      0         1  \n",
       "1           0       1        1         1      0         1  "
      ]
     },
     "execution_count": 17,
     "metadata": {},
     "output_type": "execute_result"
    }
   ],
   "source": [
    "train_df.head(2)"
   ]
  },
  {
   "cell_type": "code",
   "execution_count": 18,
   "metadata": {
    "execution": {
     "iopub.execute_input": "2024-11-26T14:41:39.435394Z",
     "iopub.status.busy": "2024-11-26T14:41:39.434373Z",
     "iopub.status.idle": "2024-11-26T14:41:39.440180Z",
     "shell.execute_reply": "2024-11-26T14:41:39.439103Z",
     "shell.execute_reply.started": "2024-11-26T14:41:39.435336Z"
    },
    "trusted": true
   },
   "outputs": [],
   "source": [
    "target_list = ['comedy', 'cult', 'flashback', 'historical', 'murder',\n",
    "       'revenge', 'romantic', 'scifi', 'violence']"
   ]
  },
  {
   "cell_type": "markdown",
   "metadata": {},
   "source": [
    "## Calculating Weights for handling class imbalance"
   ]
  },
  {
   "cell_type": "code",
   "execution_count": 19,
   "metadata": {
    "execution": {
     "iopub.execute_input": "2024-11-26T14:41:43.136062Z",
     "iopub.status.busy": "2024-11-26T14:41:43.135365Z",
     "iopub.status.idle": "2024-11-26T14:41:43.352437Z",
     "shell.execute_reply": "2024-11-26T14:41:43.351720Z",
     "shell.execute_reply.started": "2024-11-26T14:41:43.136014Z"
    },
    "trusted": true
   },
   "outputs": [],
   "source": [
    "class_weights = []\n",
    "\n",
    "for i, label in enumerate(target_list):\n",
    "    label_weights = compute_class_weight(\n",
    "        class_weight = 'balanced',\n",
    "        classes = [0,1],\n",
    "        y = train_df[label].values\n",
    "    )\n",
    "    class_weights.append(label_weights[1])\n",
    "\n",
    "weights_tensor = torch.tensor(class_weights, dtype = torch.float).to(device)"
   ]
  },
  {
   "cell_type": "code",
   "execution_count": 20,
   "metadata": {
    "execution": {
     "iopub.execute_input": "2024-11-26T14:41:47.029289Z",
     "iopub.status.busy": "2024-11-26T14:41:47.028940Z",
     "iopub.status.idle": "2024-11-26T14:41:47.284700Z",
     "shell.execute_reply": "2024-11-26T14:41:47.283828Z",
     "shell.execute_reply.started": "2024-11-26T14:41:47.029260Z"
    },
    "trusted": true
   },
   "outputs": [
    {
     "data": {
      "text/plain": [
       "tensor([ 3.2714,  2.2923,  2.0705, 22.1962,  1.0272,  2.4916,  2.0581, 20.2377,\n",
       "         1.3474], device='cuda:0')"
      ]
     },
     "execution_count": 20,
     "metadata": {},
     "output_type": "execute_result"
    }
   ],
   "source": [
    "weights_tensor"
   ]
  },
  {
   "cell_type": "code",
   "execution_count": 21,
   "metadata": {
    "execution": {
     "iopub.execute_input": "2024-11-26T14:41:49.639862Z",
     "iopub.status.busy": "2024-11-26T14:41:49.638238Z",
     "iopub.status.idle": "2024-11-26T14:41:49.645372Z",
     "shell.execute_reply": "2024-11-26T14:41:49.644175Z",
     "shell.execute_reply.started": "2024-11-26T14:41:49.639809Z"
    },
    "trusted": true
   },
   "outputs": [],
   "source": [
    "# hyperparameters obtained through Bayesian Optimization\n",
    "MAX_LEN = 256\n",
    "TRAIN_BATCH_SIZE = 16\n",
    "VALID_BATCH_SIZE = 16\n",
    "EPOCHS = 3\n",
    "LEARNING_RATE = 2e-05"
   ]
  },
  {
   "cell_type": "code",
   "execution_count": 22,
   "metadata": {
    "execution": {
     "iopub.execute_input": "2024-11-26T14:41:52.952075Z",
     "iopub.status.busy": "2024-11-26T14:41:52.951732Z",
     "iopub.status.idle": "2024-11-26T14:41:57.191183Z",
     "shell.execute_reply": "2024-11-26T14:41:57.190534Z",
     "shell.execute_reply.started": "2024-11-26T14:41:52.952029Z"
    },
    "trusted": true
   },
   "outputs": [
    {
     "data": {
      "application/vnd.jupyter.widget-view+json": {
       "model_id": "55d60708bd50462ab1b8ac65c0c15475",
       "version_major": 2,
       "version_minor": 0
      },
      "text/plain": [
       "tokenizer_config.json:   0%|          | 0.00/48.0 [00:00<?, ?B/s]"
      ]
     },
     "metadata": {},
     "output_type": "display_data"
    },
    {
     "data": {
      "application/vnd.jupyter.widget-view+json": {
       "model_id": "bbd983248cc74c96a7ee441f4ad27ec6",
       "version_major": 2,
       "version_minor": 0
      },
      "text/plain": [
       "vocab.txt:   0%|          | 0.00/232k [00:00<?, ?B/s]"
      ]
     },
     "metadata": {},
     "output_type": "display_data"
    },
    {
     "data": {
      "application/vnd.jupyter.widget-view+json": {
       "model_id": "488d251ef32743e392a7b2e3362778b0",
       "version_major": 2,
       "version_minor": 0
      },
      "text/plain": [
       "tokenizer.json:   0%|          | 0.00/466k [00:00<?, ?B/s]"
      ]
     },
     "metadata": {},
     "output_type": "display_data"
    },
    {
     "data": {
      "application/vnd.jupyter.widget-view+json": {
       "model_id": "68f4d804b36c4f07b49bcde322479e02",
       "version_major": 2,
       "version_minor": 0
      },
      "text/plain": [
       "config.json:   0%|          | 0.00/570 [00:00<?, ?B/s]"
      ]
     },
     "metadata": {},
     "output_type": "display_data"
    }
   ],
   "source": [
    "tokenizer = BertTokenizer.from_pretrained('bert-base-uncased')"
   ]
  },
  {
   "cell_type": "code",
   "execution_count": 23,
   "metadata": {
    "execution": {
     "iopub.execute_input": "2024-11-26T14:42:01.180122Z",
     "iopub.status.busy": "2024-11-26T14:42:01.179268Z",
     "iopub.status.idle": "2024-11-26T14:42:01.186415Z",
     "shell.execute_reply": "2024-11-26T14:42:01.185463Z",
     "shell.execute_reply.started": "2024-11-26T14:42:01.180086Z"
    },
    "trusted": true
   },
   "outputs": [],
   "source": [
    "class CustomDataset(torch.utils.data.Dataset):\n",
    "\n",
    "    def __init__(self, df, tokenizer, max_len, target_list):\n",
    "        self.tokenizer = tokenizer\n",
    "        self.df = df\n",
    "        self.title = df['plot_synopsis']\n",
    "        self.targets = self.df[target_list].values.astype(np.float32)\n",
    "        self.max_len = max_len\n",
    "\n",
    "    def __len__(self):\n",
    "        return len(self.title)\n",
    "\n",
    "    def __getitem__(self, index):\n",
    "        title = str(self.title[index])\n",
    "        title = \" \".join(title.split())\n",
    "\n",
    "        inputs = self.tokenizer.encode_plus(\n",
    "            title,\n",
    "            None,\n",
    "            add_special_tokens=True,\n",
    "            max_length=self.max_len,\n",
    "            padding='max_length',\n",
    "            return_token_type_ids=True,\n",
    "            truncation=True,\n",
    "            return_attention_mask=True,\n",
    "            return_tensors='pt'\n",
    "        )\n",
    "\n",
    "        return {\n",
    "            'input_ids': inputs['input_ids'].flatten(),\n",
    "            'attention_mask': inputs['attention_mask'].flatten(),\n",
    "            'token_type_ids': inputs[\"token_type_ids\"].flatten(),\n",
    "            'targets': torch.FloatTensor(self.targets[index])\n",
    "        }\n"
   ]
  },
  {
   "cell_type": "markdown",
   "metadata": {},
   "source": [
    "## Preparing Validation Set"
   ]
  },
  {
   "cell_type": "code",
   "execution_count": 27,
   "metadata": {
    "execution": {
     "iopub.execute_input": "2024-11-26T14:43:10.037249Z",
     "iopub.status.busy": "2024-11-26T14:43:10.036647Z",
     "iopub.status.idle": "2024-11-26T14:43:10.122090Z",
     "shell.execute_reply": "2024-11-26T14:43:10.121204Z",
     "shell.execute_reply.started": "2024-11-26T14:43:10.037213Z"
    },
    "trusted": true
   },
   "outputs": [
    {
     "data": {
      "text/plain": [
       "0       cf32cb00-172d-40f2-a3c1-936e8a0d89d7\n",
       "1       df7e125e-2d59-40e4-a126-9397e3a0ef21\n",
       "2       49bc73f3-9179-41cd-9774-905c7a3ac91b\n",
       "3       0ed4822b-87af-44bc-a677-7f7abfdaccf3\n",
       "4       0b1b0fa4-43bc-41ba-9598-b3401894b96d\n",
       "                        ...                 \n",
       "1183    d32be875-41c7-4e84-ac04-e1d3bc3df0fe\n",
       "1184    84e025dd-4b4e-403c-a3dd-34818b210857\n",
       "1185    3d291d3b-c0b5-47cc-8dc8-127dc93162e3\n",
       "1186    6c9b3034-56b3-42f6-874e-a821c9fd1a89\n",
       "1187    fbd1d334-e979-465c-9fb0-e173d2642630\n",
       "Name: ID, Length: 1188, dtype: object"
      ]
     },
     "execution_count": 27,
     "metadata": {},
     "output_type": "execute_result"
    }
   ],
   "source": [
    "val_df = pd.read_csv('/kaggle/input/cw2-validation-dataset/CW2-validation-dataset.csv')\n",
    "first_column = val_df.iloc[:, 0]\n",
    "first_column"
   ]
  },
  {
   "cell_type": "code",
   "execution_count": 28,
   "metadata": {
    "execution": {
     "iopub.execute_input": "2024-11-26T14:43:13.566286Z",
     "iopub.status.busy": "2024-11-26T14:43:13.565935Z",
     "iopub.status.idle": "2024-11-26T14:43:18.938460Z",
     "shell.execute_reply": "2024-11-26T14:43:18.937552Z",
     "shell.execute_reply.started": "2024-11-26T14:43:13.566255Z"
    },
    "trusted": true
   },
   "outputs": [],
   "source": [
    "val_df = val_df.drop(['ID', 'title'],axis= 1)\n",
    "val_df['plot_synopsis'] = val_df['plot_synopsis'].apply(clean_text)"
   ]
  },
  {
   "cell_type": "code",
   "execution_count": 29,
   "metadata": {
    "execution": {
     "iopub.execute_input": "2024-11-26T14:43:20.604853Z",
     "iopub.status.busy": "2024-11-26T14:43:20.604186Z",
     "iopub.status.idle": "2024-11-26T14:43:20.614259Z",
     "shell.execute_reply": "2024-11-26T14:43:20.613349Z",
     "shell.execute_reply.started": "2024-11-26T14:43:20.604823Z"
    },
    "trusted": true
   },
   "outputs": [
    {
     "data": {
      "text/html": [
       "<div>\n",
       "<style scoped>\n",
       "    .dataframe tbody tr th:only-of-type {\n",
       "        vertical-align: middle;\n",
       "    }\n",
       "\n",
       "    .dataframe tbody tr th {\n",
       "        vertical-align: top;\n",
       "    }\n",
       "\n",
       "    .dataframe thead th {\n",
       "        text-align: right;\n",
       "    }\n",
       "</style>\n",
       "<table border=\"1\" class=\"dataframe\">\n",
       "  <thead>\n",
       "    <tr style=\"text-align: right;\">\n",
       "      <th></th>\n",
       "      <th>plot_synopsis</th>\n",
       "      <th>comedy</th>\n",
       "      <th>cult</th>\n",
       "      <th>flashback</th>\n",
       "      <th>historical</th>\n",
       "      <th>murder</th>\n",
       "      <th>revenge</th>\n",
       "      <th>romantic</th>\n",
       "      <th>scifi</th>\n",
       "      <th>violence</th>\n",
       "    </tr>\n",
       "  </thead>\n",
       "  <tbody>\n",
       "    <tr>\n",
       "      <th>0</th>\n",
       "      <td>enchanting city verona italy renowned painter ...</td>\n",
       "      <td>0</td>\n",
       "      <td>0</td>\n",
       "      <td>0</td>\n",
       "      <td>0</td>\n",
       "      <td>1</td>\n",
       "      <td>0</td>\n",
       "      <td>1</td>\n",
       "      <td>0</td>\n",
       "      <td>0</td>\n",
       "    </tr>\n",
       "    <tr>\n",
       "      <th>1</th>\n",
       "      <td>walker works friend mal reese steal large amou...</td>\n",
       "      <td>0</td>\n",
       "      <td>1</td>\n",
       "      <td>1</td>\n",
       "      <td>0</td>\n",
       "      <td>1</td>\n",
       "      <td>1</td>\n",
       "      <td>0</td>\n",
       "      <td>0</td>\n",
       "      <td>1</td>\n",
       "    </tr>\n",
       "  </tbody>\n",
       "</table>\n",
       "</div>"
      ],
      "text/plain": [
       "                                       plot_synopsis  comedy  cult  flashback  \\\n",
       "0  enchanting city verona italy renowned painter ...       0     0          0   \n",
       "1  walker works friend mal reese steal large amou...       0     1          1   \n",
       "\n",
       "   historical  murder  revenge  romantic  scifi  violence  \n",
       "0           0       1        0         1      0         0  \n",
       "1           0       1        1         0      0         1  "
      ]
     },
     "execution_count": 29,
     "metadata": {},
     "output_type": "execute_result"
    }
   ],
   "source": [
    "val_df.head(2)"
   ]
  },
  {
   "cell_type": "code",
   "execution_count": 30,
   "metadata": {
    "execution": {
     "iopub.execute_input": "2024-11-26T14:43:23.662010Z",
     "iopub.status.busy": "2024-11-26T14:43:23.661240Z",
     "iopub.status.idle": "2024-11-26T14:43:23.667979Z",
     "shell.execute_reply": "2024-11-26T14:43:23.667214Z",
     "shell.execute_reply.started": "2024-11-26T14:43:23.661977Z"
    },
    "trusted": true
   },
   "outputs": [],
   "source": [
    "train_dataset = CustomDataset(train_df, tokenizer, MAX_LEN, target_list=target_list)\n",
    "valid_dataset = CustomDataset(val_df, tokenizer, MAX_LEN, target_list=target_list)"
   ]
  },
  {
   "cell_type": "code",
   "execution_count": 31,
   "metadata": {
    "execution": {
     "iopub.execute_input": "2024-11-26T14:43:26.313381Z",
     "iopub.status.busy": "2024-11-26T14:43:26.313004Z",
     "iopub.status.idle": "2024-11-26T14:43:26.318523Z",
     "shell.execute_reply": "2024-11-26T14:43:26.317746Z",
     "shell.execute_reply.started": "2024-11-26T14:43:26.313351Z"
    },
    "trusted": true
   },
   "outputs": [
    {
     "data": {
      "text/plain": [
       "8257"
      ]
     },
     "execution_count": 31,
     "metadata": {},
     "output_type": "execute_result"
    }
   ],
   "source": [
    "len(train_dataset)"
   ]
  },
  {
   "cell_type": "code",
   "execution_count": 32,
   "metadata": {
    "execution": {
     "iopub.execute_input": "2024-11-26T14:43:28.888175Z",
     "iopub.status.busy": "2024-11-26T14:43:28.887377Z",
     "iopub.status.idle": "2024-11-26T14:43:28.893257Z",
     "shell.execute_reply": "2024-11-26T14:43:28.892245Z",
     "shell.execute_reply.started": "2024-11-26T14:43:28.888138Z"
    },
    "trusted": true
   },
   "outputs": [],
   "source": [
    "train_data_loader = torch.utils.data.DataLoader(train_dataset,\n",
    "    batch_size=TRAIN_BATCH_SIZE,\n",
    "    shuffle=True,\n",
    "    num_workers=0\n",
    ")\n",
    "\n",
    "val_data_loader = torch.utils.data.DataLoader(valid_dataset,\n",
    "    batch_size=VALID_BATCH_SIZE,\n",
    "    shuffle=False,\n",
    "    num_workers=0\n",
    ")"
   ]
  },
  {
   "cell_type": "code",
   "execution_count": 33,
   "metadata": {
    "execution": {
     "iopub.execute_input": "2024-11-26T14:43:32.337227Z",
     "iopub.status.busy": "2024-11-26T14:43:32.336589Z",
     "iopub.status.idle": "2024-11-26T14:43:32.342514Z",
     "shell.execute_reply": "2024-11-26T14:43:32.341601Z",
     "shell.execute_reply.started": "2024-11-26T14:43:32.337196Z"
    },
    "trusted": true
   },
   "outputs": [
    {
     "data": {
      "text/plain": [
       "517"
      ]
     },
     "execution_count": 33,
     "metadata": {},
     "output_type": "execute_result"
    }
   ],
   "source": [
    "len(train_data_loader)"
   ]
  },
  {
   "cell_type": "code",
   "execution_count": 34,
   "metadata": {
    "execution": {
     "iopub.execute_input": "2024-11-26T14:43:37.274486Z",
     "iopub.status.busy": "2024-11-26T14:43:37.273844Z",
     "iopub.status.idle": "2024-11-26T14:43:40.346608Z",
     "shell.execute_reply": "2024-11-26T14:43:40.345816Z",
     "shell.execute_reply.started": "2024-11-26T14:43:37.274450Z"
    },
    "trusted": true
   },
   "outputs": [
    {
     "data": {
      "application/vnd.jupyter.widget-view+json": {
       "model_id": "b95441ec388b49faa81222073e4c30ee",
       "version_major": 2,
       "version_minor": 0
      },
      "text/plain": [
       "model.safetensors:   0%|          | 0.00/440M [00:00<?, ?B/s]"
      ]
     },
     "metadata": {},
     "output_type": "display_data"
    },
    {
     "data": {
      "text/plain": [
       "BERTClass(\n",
       "  (bert_model): BertModel(\n",
       "    (embeddings): BertEmbeddings(\n",
       "      (word_embeddings): Embedding(30522, 768, padding_idx=0)\n",
       "      (position_embeddings): Embedding(512, 768)\n",
       "      (token_type_embeddings): Embedding(2, 768)\n",
       "      (LayerNorm): LayerNorm((768,), eps=1e-12, elementwise_affine=True)\n",
       "      (dropout): Dropout(p=0.1, inplace=False)\n",
       "    )\n",
       "    (encoder): BertEncoder(\n",
       "      (layer): ModuleList(\n",
       "        (0-11): 12 x BertLayer(\n",
       "          (attention): BertAttention(\n",
       "            (self): BertSdpaSelfAttention(\n",
       "              (query): Linear(in_features=768, out_features=768, bias=True)\n",
       "              (key): Linear(in_features=768, out_features=768, bias=True)\n",
       "              (value): Linear(in_features=768, out_features=768, bias=True)\n",
       "              (dropout): Dropout(p=0.1, inplace=False)\n",
       "            )\n",
       "            (output): BertSelfOutput(\n",
       "              (dense): Linear(in_features=768, out_features=768, bias=True)\n",
       "              (LayerNorm): LayerNorm((768,), eps=1e-12, elementwise_affine=True)\n",
       "              (dropout): Dropout(p=0.1, inplace=False)\n",
       "            )\n",
       "          )\n",
       "          (intermediate): BertIntermediate(\n",
       "            (dense): Linear(in_features=768, out_features=3072, bias=True)\n",
       "            (intermediate_act_fn): GELUActivation()\n",
       "          )\n",
       "          (output): BertOutput(\n",
       "            (dense): Linear(in_features=3072, out_features=768, bias=True)\n",
       "            (LayerNorm): LayerNorm((768,), eps=1e-12, elementwise_affine=True)\n",
       "            (dropout): Dropout(p=0.1, inplace=False)\n",
       "          )\n",
       "        )\n",
       "      )\n",
       "    )\n",
       "    (pooler): BertPooler(\n",
       "      (dense): Linear(in_features=768, out_features=768, bias=True)\n",
       "      (activation): Tanh()\n",
       "    )\n",
       "  )\n",
       "  (dropout): Dropout(p=0.3, inplace=False)\n",
       "  (linear): Linear(in_features=768, out_features=9, bias=True)\n",
       ")"
      ]
     },
     "execution_count": 34,
     "metadata": {},
     "output_type": "execute_result"
    }
   ],
   "source": [
    "class BERTClass(torch.nn.Module):\n",
    "    def __init__(self):\n",
    "        super(BERTClass, self).__init__()\n",
    "        self.bert_model = BertModel.from_pretrained('bert-base-uncased', return_dict=True)\n",
    "        self.dropout = torch.nn.Dropout(0.3)\n",
    "        self.linear = torch.nn.Linear(768, 9)\n",
    "\n",
    "    def forward(self, input_ids, attn_mask, token_type_ids):\n",
    "        output = self.bert_model(\n",
    "            input_ids,\n",
    "            attention_mask=attn_mask,\n",
    "            token_type_ids=token_type_ids\n",
    "        )\n",
    "        # output_dropout = self.dropout(output.pooler_output)\n",
    "        output_dropout = self.dropout(output.pooler_output)\n",
    "        output = self.linear(output_dropout)\n",
    "        return output\n",
    "\n",
    "model = BERTClass()\n",
    "model.to(device)"
   ]
  },
  {
   "cell_type": "code",
   "execution_count": 35,
   "metadata": {
    "execution": {
     "iopub.execute_input": "2024-11-26T14:43:43.690566Z",
     "iopub.status.busy": "2024-11-26T14:43:43.689885Z",
     "iopub.status.idle": "2024-11-26T14:43:44.095431Z",
     "shell.execute_reply": "2024-11-26T14:43:44.094720Z",
     "shell.execute_reply.started": "2024-11-26T14:43:43.690529Z"
    },
    "trusted": true
   },
   "outputs": [],
   "source": [
    "def loss_fn(outputs, targets):\n",
    "    return torch.nn.BCEWithLogitsLoss(pos_weight = weights_tensor)(outputs, targets)\n",
    "\n",
    "optimizer = torch.optim.Adam(params =  model.parameters(), lr=LEARNING_RATE)"
   ]
  },
  {
   "cell_type": "markdown",
   "metadata": {},
   "source": [
    "## Bayesian Optimization to get best possible hyperparameters."
   ]
  },
  {
   "cell_type": "code",
   "execution_count": 58,
   "metadata": {
    "execution": {
     "iopub.execute_input": "2024-11-26T03:53:13.357237Z",
     "iopub.status.busy": "2024-11-26T03:53:13.356897Z",
     "iopub.status.idle": "2024-11-26T03:53:13.366749Z",
     "shell.execute_reply": "2024-11-26T03:53:13.365821Z",
     "shell.execute_reply.started": "2024-11-26T03:53:13.357209Z"
    },
    "trusted": true
   },
   "outputs": [],
   "source": [
    "def objective(trial):\n",
    "    # Define hyperparameter search space\n",
    "    learning_rate = trial.suggest_float(\"learning_rate\", 1e-5, 2e-5, log=True)\n",
    "    batch_size = trial.suggest_categorical(\"batch_size\", [16, 32])\n",
    "\n",
    "    # Initialize model, optimizer, and tokenizer\n",
    "    dropout_rate = 0.5\n",
    "    model = BERTClass().to(device)\n",
    "    model.dropout.p = dropout_rate\n",
    "    optimizer = torch.optim.Adam(params=model.parameters(), lr=learning_rate)\n",
    "\n",
    "    # DataLoaders (define your training_loader and validation_loader here)\n",
    "    training_loader = train_data_loader\n",
    "    validation_loader = val_data_loader\n",
    "\n",
    "    # Training loop setup\n",
    "    n_epochs = 2  # Number of epochs for this trial\n",
    "    valid_loss_min = np.Inf\n",
    "\n",
    "    for epoch in range(n_epochs):\n",
    "        model.train()\n",
    "        train_loss = 0.0\n",
    "\n",
    "        for batch_idx, data in enumerate(training_loader):\n",
    "            ids = data['input_ids'].to(device, dtype=torch.long)\n",
    "            mask = data['attention_mask'].to(device, dtype=torch.long)\n",
    "            token_type_ids = data['token_type_ids'].to(device, dtype=torch.long)\n",
    "            targets = data['targets'].to(device, dtype=torch.float)\n",
    "\n",
    "            weighted_targets = targets * weights_tensor\n",
    "            outputs = model(ids, mask, token_type_ids)\n",
    "            optimizer.zero_grad()\n",
    "            loss = loss_fn(outputs, weighted_targets)\n",
    "            loss.backward()\n",
    "            optimizer.step()\n",
    "            train_loss += loss.item()\n",
    "\n",
    "        # Validation\n",
    "        model.eval()\n",
    "        valid_loss = 0.0\n",
    "        with torch.no_grad():\n",
    "            for batch_idx, data in enumerate(validation_loader):\n",
    "                ids = data['input_ids'].to(device, dtype=torch.long)\n",
    "                mask = data['attention_mask'].to(device, dtype=torch.long)\n",
    "                token_type_ids = data['token_type_ids'].to(device, dtype=torch.long)\n",
    "                targets = data['targets'].to(device, dtype=torch.float)\n",
    "                \n",
    "                weighted_targets = targets * weights_tensor\n",
    "                outputs = model(ids, mask, token_type_ids)\n",
    "                loss = loss_fn(outputs, weighted_targets)\n",
    "                valid_loss += loss.item()\n",
    "\n",
    "        # Calculate average validation loss\n",
    "        valid_loss /= len(validation_loader)\n",
    "\n",
    "        # Update minimum validation loss\n",
    "        if valid_loss < valid_loss_min:\n",
    "            valid_loss_min = valid_loss\n",
    "\n",
    "    return valid_loss_min\n"
   ]
  },
  {
   "cell_type": "code",
   "execution_count": null,
   "metadata": {
    "execution": {
     "iopub.execute_input": "2024-11-26T03:53:28.981631Z",
     "iopub.status.busy": "2024-11-26T03:53:28.980840Z"
    },
    "trusted": true
   },
   "outputs": [
    {
     "name": "stderr",
     "output_type": "stream",
     "text": [
      "[I 2024-11-26 03:53:28,983] A new study created in memory with name: no-name-ed544931-c4f5-478d-9366-17b1a33e099d\n",
      "[I 2024-11-26 04:11:01,765] Trial 0 finished with value: 0.7416231871644656 and parameters: {'learning_rate': 1.5623344958868598e-05, 'batch_size': 16}. Best is trial 0 with value: 0.7416231871644656.\n",
      "[I 2024-11-26 04:28:37,270] Trial 1 finished with value: 0.6212344391271472 and parameters: {'learning_rate': 1.3367623645529437e-05, 'batch_size': 16}. Best is trial 1 with value: 0.6212344391271472.\n",
      "[W 2024-11-26 04:36:49,033] Trial 2 failed with parameters: {'learning_rate': 1.5315518502910087e-05, 'batch_size': 32} because of the following error: KeyboardInterrupt().\n",
      "Traceback (most recent call last):\n",
      "  File \"/opt/conda/lib/python3.10/site-packages/optuna/study/_optimize.py\", line 197, in _run_trial\n",
      "    value_or_values = func(trial)\n",
      "  File \"/tmp/ipykernel_30/1869258477.py\", line 38, in objective\n",
      "    train_loss += loss.item()\n",
      "KeyboardInterrupt\n"
     ]
    }
   ],
   "source": [
    "study = optuna.create_study(direction=\"minimize\")\n",
    "study.optimize(objective, n_trials=10)\n",
    "\n",
    "print(\"Best hyperparameters:\", study.best_params)\n"
   ]
  },
  {
   "cell_type": "markdown",
   "metadata": {},
   "source": [
    "# Training BERT"
   ]
  },
  {
   "cell_type": "code",
   "execution_count": 36,
   "metadata": {
    "execution": {
     "iopub.execute_input": "2024-11-26T14:43:50.529849Z",
     "iopub.status.busy": "2024-11-26T14:43:50.529319Z",
     "iopub.status.idle": "2024-11-26T14:43:50.534002Z",
     "shell.execute_reply": "2024-11-26T14:43:50.533102Z",
     "shell.execute_reply.started": "2024-11-26T14:43:50.529816Z"
    },
    "trusted": true
   },
   "outputs": [],
   "source": [
    "val_targets=[]\n",
    "val_outputs=[]"
   ]
  },
  {
   "cell_type": "code",
   "execution_count": 37,
   "metadata": {
    "execution": {
     "iopub.execute_input": "2024-11-26T14:43:56.391609Z",
     "iopub.status.busy": "2024-11-26T14:43:56.391296Z",
     "iopub.status.idle": "2024-11-26T14:43:56.403071Z",
     "shell.execute_reply": "2024-11-26T14:43:56.401800Z",
     "shell.execute_reply.started": "2024-11-26T14:43:56.391582Z"
    },
    "trusted": true
   },
   "outputs": [],
   "source": [
    "def train_model(n_epochs, training_loader, validation_loader, model,\n",
    "                optimizer):\n",
    "\n",
    "  # initialize tracker for minimum validation loss\n",
    "  valid_loss_min = np.Inf\n",
    "\n",
    "\n",
    "  for epoch in range(1, n_epochs+1):\n",
    "    train_loss = 0\n",
    "    valid_loss = 0\n",
    "\n",
    "    model.train()\n",
    "    print('############# Epoch {}: Training Start   #############'.format(epoch))\n",
    "    for batch_idx, data in enumerate(training_loader):\n",
    "        #print('yyy epoch', batch_idx)\n",
    "        ids = data['input_ids'].to(device, dtype = torch.long)\n",
    "        mask = data['attention_mask'].to(device, dtype = torch.long)\n",
    "        token_type_ids = data['token_type_ids'].to(device, dtype = torch.long)\n",
    "        # print(type(data['targets']))\n",
    "        targets = data['targets'].to(device, dtype = torch.float)\n",
    "        outputs = model(ids, mask, token_type_ids)\n",
    "\n",
    "        optimizer.zero_grad()\n",
    "        loss = loss_fn(outputs, targets)\n",
    "        if batch_idx%100==0:\n",
    "           print(f'Epoch: {epoch}, Training Loss:  {loss.item()}')\n",
    "        loss.backward()\n",
    "        optimizer.step()\n",
    "        # scheduler.step()\n",
    "        #print('before loss data in training', loss.item(), train_loss)\n",
    "        train_loss = train_loss + ((1 / (batch_idx + 1)) * (loss.item() - train_loss))\n",
    "        #print('after loss data in training', loss.item(), train_loss)\n",
    "\n",
    "    print('############# Epoch {}: Training End     #############'.format(epoch))\n",
    "\n",
    "    print('############# Epoch {}: Validation Start   #############'.format(epoch))\n",
    "    ######################\n",
    "    # validate the model #\n",
    "    ######################\n",
    "\n",
    "    model.eval()\n",
    "\n",
    "    with torch.no_grad():\n",
    "      for batch_idx, data in enumerate(validation_loader, 0):\n",
    "            ids = data['input_ids'].to(device, dtype = torch.long)\n",
    "            mask = data['attention_mask'].to(device, dtype = torch.long)\n",
    "            token_type_ids = data['token_type_ids'].to(device, dtype = torch.long)\n",
    "            targets = data['targets'].to(device, dtype = torch.float)\n",
    "            outputs = model(ids, mask, token_type_ids)\n",
    "\n",
    "            loss = loss_fn(outputs, targets)\n",
    "            valid_loss = valid_loss + ((1 / (batch_idx + 1)) * (loss.item() - valid_loss))\n",
    "            val_targets.extend(targets.cpu().detach().numpy().tolist())\n",
    "            val_outputs.extend(torch.sigmoid(outputs).cpu().detach().numpy().tolist())\n",
    "\n",
    "      print('############# Epoch {}: Validation End     #############'.format(epoch))\n",
    "      # calculate average losses\n",
    "      #print('before cal avg train loss', train_loss)\n",
    "      train_loss = train_loss/len(training_loader)\n",
    "      valid_loss = valid_loss/len(validation_loader)\n",
    "      # print training/validation statistics\n",
    "      print('Epoch: {} \\tAvgerage Training Loss: {:.6f} \\tAverage Validation Loss: {:.6f}'.format(\n",
    "            epoch,\n",
    "            train_loss,\n",
    "            valid_loss\n",
    "            ))\n",
    "\n",
    "\n",
    "      if valid_loss <= valid_loss_min:\n",
    "        print('Validation loss decreased ({:.6f} --> {:.6f}).'.format(valid_loss_min,valid_loss))\n",
    "\n",
    "    print('############# Epoch {}  Done   #############\\n'.format(epoch))\n",
    "\n",
    "  return model"
   ]
  },
  {
   "cell_type": "code",
   "execution_count": 38,
   "metadata": {
    "execution": {
     "iopub.execute_input": "2024-11-26T14:44:00.277782Z",
     "iopub.status.busy": "2024-11-26T14:44:00.277396Z",
     "iopub.status.idle": "2024-11-26T15:10:21.237159Z",
     "shell.execute_reply": "2024-11-26T15:10:21.236236Z",
     "shell.execute_reply.started": "2024-11-26T14:44:00.277748Z"
    },
    "trusted": true
   },
   "outputs": [
    {
     "name": "stdout",
     "output_type": "stream",
     "text": [
      "############# Epoch 1: Training Start   #############\n",
      "Epoch: 1, Training Loss:  0.8454555869102478\n",
      "Epoch: 1, Training Loss:  0.881766140460968\n",
      "Epoch: 1, Training Loss:  0.7645052671432495\n",
      "Epoch: 1, Training Loss:  0.9993384480476379\n",
      "Epoch: 1, Training Loss:  0.6460606455802917\n",
      "Epoch: 1, Training Loss:  0.6650280952453613\n",
      "############# Epoch 1: Training End     #############\n",
      "############# Epoch 1: Validation Start   #############\n",
      "############# Epoch 1: Validation End     #############\n",
      "Epoch: 1 \tAvgerage Training Loss: 0.001542 \tAverage Validation Loss: 0.009664\n",
      "Validation loss decreased (inf --> 0.009664).\n",
      "############# Epoch 1  Done   #############\n",
      "\n",
      "############# Epoch 2: Training Start   #############\n",
      "Epoch: 2, Training Loss:  0.6646711826324463\n",
      "Epoch: 2, Training Loss:  0.6188026070594788\n",
      "Epoch: 2, Training Loss:  0.5595976710319519\n",
      "Epoch: 2, Training Loss:  0.7766820788383484\n",
      "Epoch: 2, Training Loss:  0.5875216722488403\n",
      "Epoch: 2, Training Loss:  0.9691815972328186\n",
      "############# Epoch 2: Training End     #############\n",
      "############# Epoch 2: Validation Start   #############\n",
      "############# Epoch 2: Validation End     #############\n",
      "Epoch: 2 \tAvgerage Training Loss: 0.001330 \tAverage Validation Loss: 0.009006\n",
      "Validation loss decreased (inf --> 0.009006).\n",
      "############# Epoch 2  Done   #############\n",
      "\n",
      "############# Epoch 3: Training Start   #############\n",
      "Epoch: 3, Training Loss:  1.1463966369628906\n",
      "Epoch: 3, Training Loss:  0.6385899782180786\n",
      "Epoch: 3, Training Loss:  0.6542844772338867\n",
      "Epoch: 3, Training Loss:  0.6505234837532043\n",
      "Epoch: 3, Training Loss:  0.5249112248420715\n",
      "Epoch: 3, Training Loss:  0.6159939169883728\n",
      "############# Epoch 3: Training End     #############\n",
      "############# Epoch 3: Validation Start   #############\n",
      "############# Epoch 3: Validation End     #############\n",
      "Epoch: 3 \tAvgerage Training Loss: 0.001177 \tAverage Validation Loss: 0.008873\n",
      "Validation loss decreased (inf --> 0.008873).\n",
      "############# Epoch 3  Done   #############\n",
      "\n"
     ]
    }
   ],
   "source": [
    "trained_model = train_model(EPOCHS, train_data_loader, val_data_loader, model, optimizer)"
   ]
  },
  {
   "cell_type": "code",
   "execution_count": 39,
   "metadata": {
    "execution": {
     "iopub.execute_input": "2024-11-26T15:12:03.003734Z",
     "iopub.status.busy": "2024-11-26T15:12:03.002918Z",
     "iopub.status.idle": "2024-11-26T15:12:03.011285Z",
     "shell.execute_reply": "2024-11-26T15:12:03.010516Z",
     "shell.execute_reply.started": "2024-11-26T15:12:03.003699Z"
    },
    "trusted": true
   },
   "outputs": [
    {
     "data": {
      "text/plain": [
       "BERTClass(\n",
       "  (bert_model): BertModel(\n",
       "    (embeddings): BertEmbeddings(\n",
       "      (word_embeddings): Embedding(30522, 768, padding_idx=0)\n",
       "      (position_embeddings): Embedding(512, 768)\n",
       "      (token_type_embeddings): Embedding(2, 768)\n",
       "      (LayerNorm): LayerNorm((768,), eps=1e-12, elementwise_affine=True)\n",
       "      (dropout): Dropout(p=0.1, inplace=False)\n",
       "    )\n",
       "    (encoder): BertEncoder(\n",
       "      (layer): ModuleList(\n",
       "        (0-11): 12 x BertLayer(\n",
       "          (attention): BertAttention(\n",
       "            (self): BertSdpaSelfAttention(\n",
       "              (query): Linear(in_features=768, out_features=768, bias=True)\n",
       "              (key): Linear(in_features=768, out_features=768, bias=True)\n",
       "              (value): Linear(in_features=768, out_features=768, bias=True)\n",
       "              (dropout): Dropout(p=0.1, inplace=False)\n",
       "            )\n",
       "            (output): BertSelfOutput(\n",
       "              (dense): Linear(in_features=768, out_features=768, bias=True)\n",
       "              (LayerNorm): LayerNorm((768,), eps=1e-12, elementwise_affine=True)\n",
       "              (dropout): Dropout(p=0.1, inplace=False)\n",
       "            )\n",
       "          )\n",
       "          (intermediate): BertIntermediate(\n",
       "            (dense): Linear(in_features=768, out_features=3072, bias=True)\n",
       "            (intermediate_act_fn): GELUActivation()\n",
       "          )\n",
       "          (output): BertOutput(\n",
       "            (dense): Linear(in_features=3072, out_features=768, bias=True)\n",
       "            (LayerNorm): LayerNorm((768,), eps=1e-12, elementwise_affine=True)\n",
       "            (dropout): Dropout(p=0.1, inplace=False)\n",
       "          )\n",
       "        )\n",
       "      )\n",
       "    )\n",
       "    (pooler): BertPooler(\n",
       "      (dense): Linear(in_features=768, out_features=768, bias=True)\n",
       "      (activation): Tanh()\n",
       "    )\n",
       "  )\n",
       "  (dropout): Dropout(p=0.3, inplace=False)\n",
       "  (linear): Linear(in_features=768, out_features=9, bias=True)\n",
       ")"
      ]
     },
     "execution_count": 39,
     "metadata": {},
     "output_type": "execute_result"
    }
   ],
   "source": [
    "trained_model.eval() "
   ]
  },
  {
   "cell_type": "code",
   "execution_count": 41,
   "metadata": {
    "execution": {
     "iopub.execute_input": "2024-11-26T15:15:10.972551Z",
     "iopub.status.busy": "2024-11-26T15:15:10.972200Z",
     "iopub.status.idle": "2024-11-26T15:15:10.978314Z",
     "shell.execute_reply": "2024-11-26T15:15:10.977435Z",
     "shell.execute_reply.started": "2024-11-26T15:15:10.972522Z"
    },
    "trusted": true
   },
   "outputs": [
    {
     "name": "stdout",
     "output_type": "stream",
     "text": [
      "Total parameters: 109489161\n"
     ]
    }
   ],
   "source": [
    "# Total number of parameters\n",
    "total_params = sum(p.numel() for p in trained_model.parameters())\n",
    "print(f\"Total parameters: {total_params}\")"
   ]
  },
  {
   "cell_type": "markdown",
   "metadata": {},
   "source": [
    "## Evaluating on Validation set"
   ]
  },
  {
   "cell_type": "code",
   "execution_count": 42,
   "metadata": {
    "execution": {
     "iopub.execute_input": "2024-11-26T15:16:59.322410Z",
     "iopub.status.busy": "2024-11-26T15:16:59.322054Z",
     "iopub.status.idle": "2024-11-26T15:16:59.328679Z",
     "shell.execute_reply": "2024-11-26T15:16:59.327746Z",
     "shell.execute_reply.started": "2024-11-26T15:16:59.322379Z"
    },
    "trusted": true
   },
   "outputs": [],
   "source": [
    "def generate_predictions(test_loader, trained_model, device):\n",
    "    trained_model.eval()  # Ensure model is in evaluation mode\n",
    "    predictions = []\n",
    "    \n",
    "    with torch.no_grad():  # No need to compute gradients during inference\n",
    "        for data in test_loader:\n",
    "            ids = data['input_ids'].to(device, dtype=torch.long)\n",
    "            mask = data['attention_mask'].to(device, dtype=torch.long)\n",
    "            token_type_ids = data['token_type_ids'].to(device, dtype=torch.long)\n",
    "\n",
    "            # Get the model's output\n",
    "            outputs = trained_model(ids, mask, token_type_ids)\n",
    "\n",
    "            # # Apply sigmoid to get probabilities (for multi-label classification)\n",
    "            outputs = torch.sigmoid(outputs)\n",
    "\n",
    "            # Convert probabilities to binary labels (0 or 1) based on a threshold (e.g., 0.5)\n",
    "            preds = (outputs > 0.5).cpu().numpy()  # Adjust threshold as needed\n",
    "\n",
    "            # Append predictions\n",
    "            predictions.extend(preds)\n",
    "\n",
    "    return predictions"
   ]
  },
  {
   "cell_type": "code",
   "execution_count": 43,
   "metadata": {
    "execution": {
     "iopub.execute_input": "2024-11-26T15:17:02.805417Z",
     "iopub.status.busy": "2024-11-26T15:17:02.805109Z",
     "iopub.status.idle": "2024-11-26T15:17:33.541715Z",
     "shell.execute_reply": "2024-11-26T15:17:33.541014Z",
     "shell.execute_reply.started": "2024-11-26T15:17:02.805391Z"
    },
    "trusted": true
   },
   "outputs": [],
   "source": [
    "val_predictions = generate_predictions(val_data_loader, trained_model, device)"
   ]
  },
  {
   "cell_type": "code",
   "execution_count": 44,
   "metadata": {
    "execution": {
     "iopub.execute_input": "2024-11-26T15:17:36.477795Z",
     "iopub.status.busy": "2024-11-26T15:17:36.477481Z",
     "iopub.status.idle": "2024-11-26T15:17:36.493361Z",
     "shell.execute_reply": "2024-11-26T15:17:36.492517Z",
     "shell.execute_reply.started": "2024-11-26T15:17:36.477768Z"
    },
    "trusted": true
   },
   "outputs": [
    {
     "data": {
      "text/html": [
       "<div>\n",
       "<style scoped>\n",
       "    .dataframe tbody tr th:only-of-type {\n",
       "        vertical-align: middle;\n",
       "    }\n",
       "\n",
       "    .dataframe tbody tr th {\n",
       "        vertical-align: top;\n",
       "    }\n",
       "\n",
       "    .dataframe thead th {\n",
       "        text-align: right;\n",
       "    }\n",
       "</style>\n",
       "<table border=\"1\" class=\"dataframe\">\n",
       "  <thead>\n",
       "    <tr style=\"text-align: right;\">\n",
       "      <th></th>\n",
       "      <th>First_Column</th>\n",
       "      <th>0</th>\n",
       "      <th>1</th>\n",
       "      <th>2</th>\n",
       "      <th>3</th>\n",
       "      <th>4</th>\n",
       "      <th>5</th>\n",
       "      <th>6</th>\n",
       "      <th>7</th>\n",
       "      <th>8</th>\n",
       "    </tr>\n",
       "  </thead>\n",
       "  <tbody>\n",
       "    <tr>\n",
       "      <th>0</th>\n",
       "      <td>cf32cb00-172d-40f2-a3c1-936e8a0d89d7</td>\n",
       "      <td>0</td>\n",
       "      <td>0</td>\n",
       "      <td>0</td>\n",
       "      <td>0</td>\n",
       "      <td>0</td>\n",
       "      <td>0</td>\n",
       "      <td>1</td>\n",
       "      <td>0</td>\n",
       "      <td>0</td>\n",
       "    </tr>\n",
       "    <tr>\n",
       "      <th>1</th>\n",
       "      <td>df7e125e-2d59-40e4-a126-9397e3a0ef21</td>\n",
       "      <td>0</td>\n",
       "      <td>0</td>\n",
       "      <td>0</td>\n",
       "      <td>0</td>\n",
       "      <td>1</td>\n",
       "      <td>1</td>\n",
       "      <td>0</td>\n",
       "      <td>0</td>\n",
       "      <td>1</td>\n",
       "    </tr>\n",
       "  </tbody>\n",
       "</table>\n",
       "</div>"
      ],
      "text/plain": [
       "                           First_Column  0  1  2  3  4  5  6  7  8\n",
       "0  cf32cb00-172d-40f2-a3c1-936e8a0d89d7  0  0  0  0  0  0  1  0  0\n",
       "1  df7e125e-2d59-40e4-a126-9397e3a0ef21  0  0  0  0  1  1  0  0  1"
      ]
     },
     "execution_count": 44,
     "metadata": {},
     "output_type": "execute_result"
    }
   ],
   "source": [
    "df_predictions = pd.DataFrame(val_predictions).astype(int)\n",
    "df_predictions.insert(0, 'First_Column', first_column)\n",
    "df_predictions.head(2)"
   ]
  },
  {
   "cell_type": "code",
   "execution_count": 45,
   "metadata": {
    "execution": {
     "iopub.execute_input": "2024-11-26T15:17:42.411810Z",
     "iopub.status.busy": "2024-11-26T15:17:42.411459Z",
     "iopub.status.idle": "2024-11-26T15:17:42.421924Z",
     "shell.execute_reply": "2024-11-26T15:17:42.421026Z",
     "shell.execute_reply.started": "2024-11-26T15:17:42.411779Z"
    },
    "trusted": true
   },
   "outputs": [],
   "source": [
    "df_predictions.to_csv(\"/kaggle/working/12345678_task2_results.csv\", header=False, index=False)"
   ]
  },
  {
   "cell_type": "code",
   "execution_count": 63,
   "metadata": {
    "execution": {
     "iopub.execute_input": "2024-11-25T22:46:55.826600Z",
     "iopub.status.busy": "2024-11-25T22:46:55.825720Z",
     "iopub.status.idle": "2024-11-25T22:46:56.468805Z",
     "shell.execute_reply": "2024-11-25T22:46:56.467836Z",
     "shell.execute_reply.started": "2024-11-25T22:46:55.826563Z"
    },
    "trusted": true
   },
   "outputs": [],
   "source": [
    "torch.save(model.state_dict(), '/kaggle/working/BERT_task2.pth')"
   ]
  },
  {
   "cell_type": "markdown",
   "metadata": {},
   "source": [
    "# Experimenting on Test Data"
   ]
  },
  {
   "cell_type": "code",
   "execution_count": 100,
   "metadata": {
    "execution": {
     "iopub.execute_input": "2024-11-25T23:17:26.125741Z",
     "iopub.status.busy": "2024-11-25T23:17:26.125326Z",
     "iopub.status.idle": "2024-11-25T23:17:26.199441Z",
     "shell.execute_reply": "2024-11-25T23:17:26.198416Z",
     "shell.execute_reply.started": "2024-11-25T23:17:26.125713Z"
    },
    "trusted": true
   },
   "outputs": [],
   "source": [
    "test_df = pd.read_csv('/kaggle/input/cw2-test-dataset/CW2-test-dataset.csv', header= None)"
   ]
  },
  {
   "cell_type": "code",
   "execution_count": 101,
   "metadata": {
    "execution": {
     "iopub.execute_input": "2024-11-25T23:17:29.019380Z",
     "iopub.status.busy": "2024-11-25T23:17:29.018470Z",
     "iopub.status.idle": "2024-11-25T23:17:29.030934Z",
     "shell.execute_reply": "2024-11-25T23:17:29.029947Z",
     "shell.execute_reply.started": "2024-11-25T23:17:29.019315Z"
    },
    "trusted": true
   },
   "outputs": [
    {
     "data": {
      "text/html": [
       "<div>\n",
       "<style scoped>\n",
       "    .dataframe tbody tr th:only-of-type {\n",
       "        vertical-align: middle;\n",
       "    }\n",
       "\n",
       "    .dataframe tbody tr th {\n",
       "        vertical-align: top;\n",
       "    }\n",
       "\n",
       "    .dataframe thead th {\n",
       "        text-align: right;\n",
       "    }\n",
       "</style>\n",
       "<table border=\"1\" class=\"dataframe\">\n",
       "  <thead>\n",
       "    <tr style=\"text-align: right;\">\n",
       "      <th></th>\n",
       "      <th>0</th>\n",
       "      <th>1</th>\n",
       "      <th>2</th>\n",
       "    </tr>\n",
       "  </thead>\n",
       "  <tbody>\n",
       "    <tr>\n",
       "      <th>0</th>\n",
       "      <td>9484ac61-0e30-4799-9998-6f74f4cbb204</td>\n",
       "      <td>Standoff</td>\n",
       "      <td>A young girl, Bird with her aunt's boyfriend w...</td>\n",
       "    </tr>\n",
       "    <tr>\n",
       "      <th>1</th>\n",
       "      <td>55942d28-b6a2-4662-ab55-a66783a86a56</td>\n",
       "      <td>On Our Merry Way</td>\n",
       "      <td>Oliver Pease (Burgess Meredith) has deceived h...</td>\n",
       "    </tr>\n",
       "    <tr>\n",
       "      <th>2</th>\n",
       "      <td>b71ed317-04cd-42f5-a380-d21dfea2bd36</td>\n",
       "      <td>My Life Without Me</td>\n",
       "      <td>Ann (Sarah Polley) is a hard-working 23-year-o...</td>\n",
       "    </tr>\n",
       "    <tr>\n",
       "      <th>3</th>\n",
       "      <td>5689b1b2-88cd-4c22-9114-0850ba539280</td>\n",
       "      <td>Ben &amp; Arthur</td>\n",
       "      <td>Ben (Jamie Brett Gabel) and Arthur (Sam Mraovi...</td>\n",
       "    </tr>\n",
       "    <tr>\n",
       "      <th>4</th>\n",
       "      <td>a0d9062e-f539-4043-bc9e-2a2ed589477b</td>\n",
       "      <td>Where the Sidewalk Ends</td>\n",
       "      <td>New York City 16th Precinct Police Detective D...</td>\n",
       "    </tr>\n",
       "  </tbody>\n",
       "</table>\n",
       "</div>"
      ],
      "text/plain": [
       "                                      0                        1  \\\n",
       "0  9484ac61-0e30-4799-9998-6f74f4cbb204                 Standoff   \n",
       "1  55942d28-b6a2-4662-ab55-a66783a86a56         On Our Merry Way   \n",
       "2  b71ed317-04cd-42f5-a380-d21dfea2bd36       My Life Without Me   \n",
       "3  5689b1b2-88cd-4c22-9114-0850ba539280             Ben & Arthur   \n",
       "4  a0d9062e-f539-4043-bc9e-2a2ed589477b  Where the Sidewalk Ends   \n",
       "\n",
       "                                                   2  \n",
       "0  A young girl, Bird with her aunt's boyfriend w...  \n",
       "1  Oliver Pease (Burgess Meredith) has deceived h...  \n",
       "2  Ann (Sarah Polley) is a hard-working 23-year-o...  \n",
       "3  Ben (Jamie Brett Gabel) and Arthur (Sam Mraovi...  \n",
       "4  New York City 16th Precinct Police Detective D...  "
      ]
     },
     "execution_count": 101,
     "metadata": {},
     "output_type": "execute_result"
    }
   ],
   "source": [
    "test_df.head()"
   ]
  },
  {
   "cell_type": "code",
   "execution_count": 102,
   "metadata": {
    "execution": {
     "iopub.execute_input": "2024-11-25T23:17:38.233946Z",
     "iopub.status.busy": "2024-11-25T23:17:38.233600Z",
     "iopub.status.idle": "2024-11-25T23:17:38.241028Z",
     "shell.execute_reply": "2024-11-25T23:17:38.240100Z",
     "shell.execute_reply.started": "2024-11-25T23:17:38.233915Z"
    },
    "trusted": true
   },
   "outputs": [
    {
     "data": {
      "text/plain": [
       "0       9484ac61-0e30-4799-9998-6f74f4cbb204\n",
       "1       55942d28-b6a2-4662-ab55-a66783a86a56\n",
       "2       b71ed317-04cd-42f5-a380-d21dfea2bd36\n",
       "3       5689b1b2-88cd-4c22-9114-0850ba539280\n",
       "4       a0d9062e-f539-4043-bc9e-2a2ed589477b\n",
       "                        ...                 \n",
       "1200    9787f4bc-96d4-4f9a-9fed-753434d23d7e\n",
       "1201    1d0e44ae-1329-4d31-b45b-c2ec7039f4d5\n",
       "1202    355a4e74-7571-4ec6-a61c-7ccfaea9abe4\n",
       "1203    d7b5ed68-1e6a-40b9-be06-ce34066ec85f\n",
       "1204    717f3017-7e66-45f5-a583-45f791487438\n",
       "Name: 0, Length: 1205, dtype: object"
      ]
     },
     "execution_count": 102,
     "metadata": {},
     "output_type": "execute_result"
    }
   ],
   "source": [
    "test_first_column = test_df.iloc[:, 0]\n",
    "test_first_column"
   ]
  },
  {
   "cell_type": "code",
   "execution_count": 103,
   "metadata": {
    "execution": {
     "iopub.execute_input": "2024-11-25T23:17:41.235798Z",
     "iopub.status.busy": "2024-11-25T23:17:41.234775Z",
     "iopub.status.idle": "2024-11-25T23:17:41.242143Z",
     "shell.execute_reply": "2024-11-25T23:17:41.241217Z",
     "shell.execute_reply.started": "2024-11-25T23:17:41.235749Z"
    },
    "trusted": true
   },
   "outputs": [],
   "source": [
    "test_df = test_df.drop(columns=[test_df.columns[0], test_df.columns[1]])"
   ]
  },
  {
   "cell_type": "code",
   "execution_count": 104,
   "metadata": {
    "execution": {
     "iopub.execute_input": "2024-11-25T23:17:54.093658Z",
     "iopub.status.busy": "2024-11-25T23:17:54.093320Z",
     "iopub.status.idle": "2024-11-25T23:17:54.101639Z",
     "shell.execute_reply": "2024-11-25T23:17:54.100529Z",
     "shell.execute_reply.started": "2024-11-25T23:17:54.093632Z"
    },
    "trusted": true
   },
   "outputs": [
    {
     "data": {
      "text/html": [
       "<div>\n",
       "<style scoped>\n",
       "    .dataframe tbody tr th:only-of-type {\n",
       "        vertical-align: middle;\n",
       "    }\n",
       "\n",
       "    .dataframe tbody tr th {\n",
       "        vertical-align: top;\n",
       "    }\n",
       "\n",
       "    .dataframe thead th {\n",
       "        text-align: right;\n",
       "    }\n",
       "</style>\n",
       "<table border=\"1\" class=\"dataframe\">\n",
       "  <thead>\n",
       "    <tr style=\"text-align: right;\">\n",
       "      <th></th>\n",
       "      <th>2</th>\n",
       "    </tr>\n",
       "  </thead>\n",
       "  <tbody>\n",
       "    <tr>\n",
       "      <th>0</th>\n",
       "      <td>A young girl, Bird with her aunt's boyfriend w...</td>\n",
       "    </tr>\n",
       "    <tr>\n",
       "      <th>1</th>\n",
       "      <td>Oliver Pease (Burgess Meredith) has deceived h...</td>\n",
       "    </tr>\n",
       "  </tbody>\n",
       "</table>\n",
       "</div>"
      ],
      "text/plain": [
       "                                                   2\n",
       "0  A young girl, Bird with her aunt's boyfriend w...\n",
       "1  Oliver Pease (Burgess Meredith) has deceived h..."
      ]
     },
     "execution_count": 104,
     "metadata": {},
     "output_type": "execute_result"
    }
   ],
   "source": [
    "test_df[:2]"
   ]
  },
  {
   "cell_type": "code",
   "execution_count": 105,
   "metadata": {
    "execution": {
     "iopub.execute_input": "2024-11-25T23:18:32.758026Z",
     "iopub.status.busy": "2024-11-25T23:18:32.757167Z",
     "iopub.status.idle": "2024-11-25T23:18:38.530928Z",
     "shell.execute_reply": "2024-11-25T23:18:38.529896Z",
     "shell.execute_reply.started": "2024-11-25T23:18:32.757980Z"
    },
    "trusted": true
   },
   "outputs": [],
   "source": [
    "test_df.iloc[:, 0] = test_df.iloc[:, 0].apply(clean_text)"
   ]
  },
  {
   "cell_type": "code",
   "execution_count": 106,
   "metadata": {
    "execution": {
     "iopub.execute_input": "2024-11-25T23:18:49.946129Z",
     "iopub.status.busy": "2024-11-25T23:18:49.945200Z",
     "iopub.status.idle": "2024-11-25T23:18:49.955140Z",
     "shell.execute_reply": "2024-11-25T23:18:49.954262Z",
     "shell.execute_reply.started": "2024-11-25T23:18:49.946080Z"
    },
    "trusted": true
   },
   "outputs": [
    {
     "data": {
      "text/html": [
       "<div>\n",
       "<style scoped>\n",
       "    .dataframe tbody tr th:only-of-type {\n",
       "        vertical-align: middle;\n",
       "    }\n",
       "\n",
       "    .dataframe tbody tr th {\n",
       "        vertical-align: top;\n",
       "    }\n",
       "\n",
       "    .dataframe thead th {\n",
       "        text-align: right;\n",
       "    }\n",
       "</style>\n",
       "<table border=\"1\" class=\"dataframe\">\n",
       "  <thead>\n",
       "    <tr style=\"text-align: right;\">\n",
       "      <th></th>\n",
       "      <th>2</th>\n",
       "    </tr>\n",
       "  </thead>\n",
       "  <tbody>\n",
       "    <tr>\n",
       "      <th>0</th>\n",
       "      <td>young girl bird aunt boyfriend waiting car vis...</td>\n",
       "    </tr>\n",
       "    <tr>\n",
       "      <th>1</th>\n",
       "      <td>oliver pease burgess meredith deceived bride m...</td>\n",
       "    </tr>\n",
       "    <tr>\n",
       "      <th>2</th>\n",
       "      <td>ann sarah polley hard working year old mother ...</td>\n",
       "    </tr>\n",
       "    <tr>\n",
       "      <th>3</th>\n",
       "      <td>ben jamie brett gabel arthur sam mraovich gay ...</td>\n",
       "    </tr>\n",
       "    <tr>\n",
       "      <th>4</th>\n",
       "      <td>new york city th precinct police detective dix...</td>\n",
       "    </tr>\n",
       "  </tbody>\n",
       "</table>\n",
       "</div>"
      ],
      "text/plain": [
       "                                                   2\n",
       "0  young girl bird aunt boyfriend waiting car vis...\n",
       "1  oliver pease burgess meredith deceived bride m...\n",
       "2  ann sarah polley hard working year old mother ...\n",
       "3  ben jamie brett gabel arthur sam mraovich gay ...\n",
       "4  new york city th precinct police detective dix..."
      ]
     },
     "execution_count": 106,
     "metadata": {},
     "output_type": "execute_result"
    }
   ],
   "source": [
    "test_df.head()"
   ]
  },
  {
   "cell_type": "code",
   "execution_count": 107,
   "metadata": {
    "execution": {
     "iopub.execute_input": "2024-11-25T23:20:09.253084Z",
     "iopub.status.busy": "2024-11-25T23:20:09.252503Z",
     "iopub.status.idle": "2024-11-25T23:20:09.258019Z",
     "shell.execute_reply": "2024-11-25T23:20:09.256852Z",
     "shell.execute_reply.started": "2024-11-25T23:20:09.253050Z"
    },
    "trusted": true
   },
   "outputs": [],
   "source": [
    "test_df = test_df.rename(columns={test_df.columns[0]: 'plot_synopsis'})"
   ]
  },
  {
   "cell_type": "code",
   "execution_count": 108,
   "metadata": {
    "execution": {
     "iopub.execute_input": "2024-11-25T23:20:19.443053Z",
     "iopub.status.busy": "2024-11-25T23:20:19.442698Z",
     "iopub.status.idle": "2024-11-25T23:20:19.451379Z",
     "shell.execute_reply": "2024-11-25T23:20:19.450335Z",
     "shell.execute_reply.started": "2024-11-25T23:20:19.443004Z"
    },
    "trusted": true
   },
   "outputs": [
    {
     "data": {
      "text/html": [
       "<div>\n",
       "<style scoped>\n",
       "    .dataframe tbody tr th:only-of-type {\n",
       "        vertical-align: middle;\n",
       "    }\n",
       "\n",
       "    .dataframe tbody tr th {\n",
       "        vertical-align: top;\n",
       "    }\n",
       "\n",
       "    .dataframe thead th {\n",
       "        text-align: right;\n",
       "    }\n",
       "</style>\n",
       "<table border=\"1\" class=\"dataframe\">\n",
       "  <thead>\n",
       "    <tr style=\"text-align: right;\">\n",
       "      <th></th>\n",
       "      <th>plot_synopsis</th>\n",
       "    </tr>\n",
       "  </thead>\n",
       "  <tbody>\n",
       "    <tr>\n",
       "      <th>0</th>\n",
       "      <td>young girl bird aunt boyfriend waiting car vis...</td>\n",
       "    </tr>\n",
       "    <tr>\n",
       "      <th>1</th>\n",
       "      <td>oliver pease burgess meredith deceived bride m...</td>\n",
       "    </tr>\n",
       "    <tr>\n",
       "      <th>2</th>\n",
       "      <td>ann sarah polley hard working year old mother ...</td>\n",
       "    </tr>\n",
       "    <tr>\n",
       "      <th>3</th>\n",
       "      <td>ben jamie brett gabel arthur sam mraovich gay ...</td>\n",
       "    </tr>\n",
       "    <tr>\n",
       "      <th>4</th>\n",
       "      <td>new york city th precinct police detective dix...</td>\n",
       "    </tr>\n",
       "  </tbody>\n",
       "</table>\n",
       "</div>"
      ],
      "text/plain": [
       "                                       plot_synopsis\n",
       "0  young girl bird aunt boyfriend waiting car vis...\n",
       "1  oliver pease burgess meredith deceived bride m...\n",
       "2  ann sarah polley hard working year old mother ...\n",
       "3  ben jamie brett gabel arthur sam mraovich gay ...\n",
       "4  new york city th precinct police detective dix..."
      ]
     },
     "execution_count": 108,
     "metadata": {},
     "output_type": "execute_result"
    }
   ],
   "source": [
    "test_df.head()"
   ]
  },
  {
   "cell_type": "code",
   "execution_count": 127,
   "metadata": {
    "execution": {
     "iopub.execute_input": "2024-11-26T00:03:07.642005Z",
     "iopub.status.busy": "2024-11-26T00:03:07.641664Z",
     "iopub.status.idle": "2024-11-26T00:03:07.651499Z",
     "shell.execute_reply": "2024-11-26T00:03:07.650616Z",
     "shell.execute_reply.started": "2024-11-26T00:03:07.641977Z"
    },
    "trusted": true
   },
   "outputs": [],
   "source": [
    "class CustomTestDataset(torch.utils.data.Dataset):\n",
    "\n",
    "    def __init__(self, df, tokenizer, max_len):\n",
    "        self.tokenizer = tokenizer\n",
    "        self.df = df\n",
    "        self.title = df['plot_synopsis']\n",
    "        self.max_len = max_len\n",
    "\n",
    "    def __len__(self):\n",
    "        return len(self.title)\n",
    "\n",
    "    def __getitem__(self, index):\n",
    "        title = str(self.title[index])\n",
    "        title = \" \".join(title.split())\n",
    "\n",
    "        inputs = self.tokenizer.encode_plus(\n",
    "            title,\n",
    "            None,\n",
    "            add_special_tokens=True,\n",
    "            max_length=self.max_len,\n",
    "            padding='max_length',\n",
    "            return_token_type_ids=True,\n",
    "            truncation=True,\n",
    "            return_attention_mask=True,\n",
    "            return_tensors='pt'\n",
    "        )\n",
    "\n",
    "        return {\n",
    "            'input_ids': inputs['input_ids'].flatten(),\n",
    "            'attention_mask': inputs['attention_mask'].flatten(),\n",
    "            'token_type_ids': inputs[\"token_type_ids\"].flatten(),\n",
    "        }\n",
    "\n",
    "\n",
    "def generate_test_predictions(test_loader, trained_model, device):\n",
    "    trained_model.eval()  # Ensure model is in evaluation mode\n",
    "    predictions = []\n",
    "    \n",
    "    with torch.no_grad():  # No need to compute gradients during inference\n",
    "        for data in test_loader:\n",
    "            ids = data['input_ids'].to(device, dtype=torch.long)\n",
    "            mask = data['attention_mask'].to(device, dtype=torch.long)\n",
    "            token_type_ids = data['token_type_ids'].to(device, dtype=torch.long)\n",
    "\n",
    "            # Get the model's output\n",
    "            outputs = trained_model(ids, mask, token_type_ids)\n",
    "\n",
    "            # Apply sigmoid to get probabilities (for multi-label classification)\n",
    "            outputs = torch.sigmoid(outputs)\n",
    "\n",
    "            # Convert probabilities to binary labels (0 or 1) based on a threshold (e.g., 0.5)\n",
    "            preds = (outputs > 0.5).cpu().numpy()  # Adjust threshold as needed\n",
    "\n",
    "            # Append predictions\n",
    "            predictions.extend(preds)\n",
    "\n",
    "    return predictions\n",
    "\n",
    "TEST_BATCH_SIZE = 32\n",
    "test_dataset = CustomTestDataset(test_df, tokenizer, max_len=256)  # Use the same tokenizer and max_len as in training\n",
    "test_data_loader = torch.utils.data.DataLoader(test_dataset,\n",
    "                                               batch_size=TEST_BATCH_SIZE,\n",
    "                                               shuffle=False,  # No shuffling for test data\n",
    "                                               num_workers=0)"
   ]
  },
  {
   "cell_type": "code",
   "execution_count": 129,
   "metadata": {
    "execution": {
     "iopub.execute_input": "2024-11-26T00:05:52.221769Z",
     "iopub.status.busy": "2024-11-26T00:05:52.221425Z",
     "iopub.status.idle": "2024-11-26T00:06:21.927544Z",
     "shell.execute_reply": "2024-11-26T00:06:21.926510Z",
     "shell.execute_reply.started": "2024-11-26T00:05:52.221742Z"
    },
    "trusted": true
   },
   "outputs": [],
   "source": [
    "test_predictions = generate_test_predictions(test_data_loader, trained_model, device)"
   ]
  },
  {
   "cell_type": "code",
   "execution_count": 133,
   "metadata": {
    "execution": {
     "iopub.execute_input": "2024-11-26T00:12:23.700754Z",
     "iopub.status.busy": "2024-11-26T00:12:23.699684Z",
     "iopub.status.idle": "2024-11-26T00:12:23.715866Z",
     "shell.execute_reply": "2024-11-26T00:12:23.714940Z",
     "shell.execute_reply.started": "2024-11-26T00:12:23.700718Z"
    },
    "trusted": true
   },
   "outputs": [
    {
     "data": {
      "text/html": [
       "<div>\n",
       "<style scoped>\n",
       "    .dataframe tbody tr th:only-of-type {\n",
       "        vertical-align: middle;\n",
       "    }\n",
       "\n",
       "    .dataframe tbody tr th {\n",
       "        vertical-align: top;\n",
       "    }\n",
       "\n",
       "    .dataframe thead th {\n",
       "        text-align: right;\n",
       "    }\n",
       "</style>\n",
       "<table border=\"1\" class=\"dataframe\">\n",
       "  <thead>\n",
       "    <tr style=\"text-align: right;\">\n",
       "      <th></th>\n",
       "      <th>First_Column</th>\n",
       "      <th>0</th>\n",
       "      <th>1</th>\n",
       "      <th>2</th>\n",
       "      <th>3</th>\n",
       "      <th>4</th>\n",
       "      <th>5</th>\n",
       "      <th>6</th>\n",
       "      <th>7</th>\n",
       "      <th>8</th>\n",
       "    </tr>\n",
       "  </thead>\n",
       "  <tbody>\n",
       "    <tr>\n",
       "      <th>0</th>\n",
       "      <td>9484ac61-0e30-4799-9998-6f74f4cbb204</td>\n",
       "      <td>0</td>\n",
       "      <td>0</td>\n",
       "      <td>1</td>\n",
       "      <td>0</td>\n",
       "      <td>1</td>\n",
       "      <td>1</td>\n",
       "      <td>0</td>\n",
       "      <td>0</td>\n",
       "      <td>1</td>\n",
       "    </tr>\n",
       "    <tr>\n",
       "      <th>1</th>\n",
       "      <td>55942d28-b6a2-4662-ab55-a66783a86a56</td>\n",
       "      <td>1</td>\n",
       "      <td>0</td>\n",
       "      <td>0</td>\n",
       "      <td>0</td>\n",
       "      <td>0</td>\n",
       "      <td>0</td>\n",
       "      <td>1</td>\n",
       "      <td>0</td>\n",
       "      <td>0</td>\n",
       "    </tr>\n",
       "  </tbody>\n",
       "</table>\n",
       "</div>"
      ],
      "text/plain": [
       "                           First_Column  0  1  2  3  4  5  6  7  8\n",
       "0  9484ac61-0e30-4799-9998-6f74f4cbb204  0  0  1  0  1  1  0  0  1\n",
       "1  55942d28-b6a2-4662-ab55-a66783a86a56  1  0  0  0  0  0  1  0  0"
      ]
     },
     "execution_count": 133,
     "metadata": {},
     "output_type": "execute_result"
    }
   ],
   "source": [
    "df_test_predictions = pd.DataFrame(test_predictions).astype(int)\n",
    "df_test_predictions.insert(0, 'First_Column', test_first_column)\n",
    "df_test_predictions.head(2)"
   ]
  },
  {
   "cell_type": "code",
   "execution_count": 134,
   "metadata": {
    "execution": {
     "iopub.execute_input": "2024-11-26T00:12:33.937456Z",
     "iopub.status.busy": "2024-11-26T00:12:33.936628Z",
     "iopub.status.idle": "2024-11-26T00:12:33.946207Z",
     "shell.execute_reply": "2024-11-26T00:12:33.945295Z",
     "shell.execute_reply.started": "2024-11-26T00:12:33.937422Z"
    },
    "trusted": true
   },
   "outputs": [],
   "source": [
    "df_test_predictions.to_csv(\"/kaggle/working/12344321_task2_results.csv\", header=False, index=False)"
   ]
  },
  {
   "cell_type": "markdown",
   "metadata": {},
   "source": [
    "## Custom Testing"
   ]
  },
  {
   "cell_type": "code",
   "execution_count": 2,
   "metadata": {
    "execution": {
     "iopub.execute_input": "2024-11-26T12:50:10.262740Z",
     "iopub.status.busy": "2024-11-26T12:50:10.262281Z",
     "iopub.status.idle": "2024-11-26T12:50:10.268297Z",
     "shell.execute_reply": "2024-11-26T12:50:10.267381Z",
     "shell.execute_reply.started": "2024-11-26T12:50:10.262707Z"
    },
    "trusted": true
   },
   "outputs": [],
   "source": [
    "synopsis_tenet = 'In a world teetering on the brink of catastrophe, a secret agent known as \"The Protagonist\" is recruited into a covert operation involving the manipulation of time. Using a technique called \"inversion,\" where objects and people move backward through time, he unravels a plot orchestrated by a ruthless arms dealer, Andrei Sator. Sator possesses knowledge of a time-reversing algorithm that could annihilate the present. The Protagonist, aided by his mysterious ally Neil and Sator’s estranged wife, Kat, must navigate temporal puzzles, deadly confrontations, and moral dilemmas to prevent global annihilation. The film explores time’s complexities and the paradoxes of cause and effect, culminating in a mind-bending conclusion where the past, present, and future collide.'\n",
    "synopsis_interstellar = 'Set in a future where Earth faces environmental collapse, Interstellar follows former NASA pilot Cooper, who is recruited to join a space mission to save humanity. A mysterious wormhole near Saturn offers hope for finding a habitable planet. Alongside a team of scientists, Cooper travels to distant worlds, confronting immense time dilation and personal sacrifice. As decades pass on Earth, Cooper’s daughter, Murphy, grows up, working tirelessly to solve the equation for gravitational propulsion that could save the human race. The story weaves together themes of love, survival, and humanity’s quest for exploration, culminating in an emotional reunion and a stark reminder of the infinite universe’s mysteries.'\n",
    "synopsis_glad = 'Maximus Decimus Meridius, a loyal Roman general, is betrayed by Commodus, the corrupt son of Emperor Marcus Aurelius. After narrowly escaping execution, Maximus is enslaved and forced to become a gladiator. Rising through the ranks in the brutal arena, he becomes a symbol of resistance and justice. Driven by vengeance and the memory of his murdered family, Maximus confronts Commodus in a dramatic showdown, seeking to restore honor to Rome. Gladiator is a tale of courage, loyalty, and redemption set against the grandeur and cruelty of the Roman Empire.'\n",
    "synopsis_slave = 'Based on a true story, 12 Years a Slave chronicles the harrowing journey of Solomon Northup, a free Black man from New York who is abducted and sold into slavery. Stripped of his identity, Solomon endures years of unimaginable suffering on Southern plantations. Despite enduring brutal violence and exploitation, his determination to survive and reunite with his family never wavers. Aided by unexpected allies, Solomon’s story sheds light on the atrocities of slavery and the resilience of the human spirit, serving as a powerful testament to the enduring fight for freedom and dignity.'"
   ]
  },
  {
   "cell_type": "code",
   "execution_count": 46,
   "metadata": {
    "execution": {
     "iopub.execute_input": "2024-11-24T19:59:02.118271Z",
     "iopub.status.busy": "2024-11-24T19:59:02.117914Z",
     "iopub.status.idle": "2024-11-24T19:59:02.124888Z",
     "shell.execute_reply": "2024-11-24T19:59:02.123927Z",
     "shell.execute_reply.started": "2024-11-24T19:59:02.118241Z"
    },
    "trusted": true
   },
   "outputs": [],
   "source": [
    "# Data for the DataFrame\n",
    "data = {\n",
    "    'plot_synopsis': [\n",
    "        synopsis_tenet,\n",
    "        synopsis_interstellar,\n",
    "        synopsis_glad,\n",
    "        synopsis_slave\n",
    "    ],\n",
    "    'comedy': [0, 0, 0, 0],\n",
    "    'cult': [0, 0, 0, 0],\n",
    "    'flashback': [0, 0, 0, 0],\n",
    "    'historical': [0, 0, 1, 1],\n",
    "    'murder': [1, 0, 1, 0],\n",
    "    'revenge': [0, 0, 1, 0],\n",
    "    'romantic': [0, 0, 0, 0],\n",
    "    'scifi': [1, 1, 0, 0],\n",
    "    'violence': [1, 0, 1, 1]\n",
    "}\n",
    "\n",
    "# Create the DataFrame\n",
    "df_test = pd.DataFrame(data)"
   ]
  },
  {
   "cell_type": "code",
   "execution_count": 52,
   "metadata": {
    "execution": {
     "iopub.execute_input": "2024-11-24T19:59:49.880916Z",
     "iopub.status.busy": "2024-11-24T19:59:49.880562Z",
     "iopub.status.idle": "2024-11-24T19:59:49.897353Z",
     "shell.execute_reply": "2024-11-24T19:59:49.896188Z",
     "shell.execute_reply.started": "2024-11-24T19:59:49.880886Z"
    },
    "trusted": true
   },
   "outputs": [
    {
     "data": {
      "text/html": [
       "<div>\n",
       "<style scoped>\n",
       "    .dataframe tbody tr th:only-of-type {\n",
       "        vertical-align: middle;\n",
       "    }\n",
       "\n",
       "    .dataframe tbody tr th {\n",
       "        vertical-align: top;\n",
       "    }\n",
       "\n",
       "    .dataframe thead th {\n",
       "        text-align: right;\n",
       "    }\n",
       "</style>\n",
       "<table border=\"1\" class=\"dataframe\">\n",
       "  <thead>\n",
       "    <tr style=\"text-align: right;\">\n",
       "      <th></th>\n",
       "      <th>plot_synopsis</th>\n",
       "      <th>comedy</th>\n",
       "      <th>cult</th>\n",
       "      <th>flashback</th>\n",
       "      <th>historical</th>\n",
       "      <th>murder</th>\n",
       "      <th>revenge</th>\n",
       "      <th>romantic</th>\n",
       "      <th>scifi</th>\n",
       "      <th>violence</th>\n",
       "    </tr>\n",
       "  </thead>\n",
       "  <tbody>\n",
       "    <tr>\n",
       "      <th>0</th>\n",
       "      <td>world teetering brink catastrophe secret agent...</td>\n",
       "      <td>0</td>\n",
       "      <td>0</td>\n",
       "      <td>0</td>\n",
       "      <td>0</td>\n",
       "      <td>1</td>\n",
       "      <td>0</td>\n",
       "      <td>0</td>\n",
       "      <td>1</td>\n",
       "      <td>1</td>\n",
       "    </tr>\n",
       "    <tr>\n",
       "      <th>1</th>\n",
       "      <td>set future earth faces environmental collapse ...</td>\n",
       "      <td>0</td>\n",
       "      <td>0</td>\n",
       "      <td>0</td>\n",
       "      <td>0</td>\n",
       "      <td>0</td>\n",
       "      <td>0</td>\n",
       "      <td>0</td>\n",
       "      <td>1</td>\n",
       "      <td>0</td>\n",
       "    </tr>\n",
       "    <tr>\n",
       "      <th>2</th>\n",
       "      <td>maximus decimus meridius loyal roman general b...</td>\n",
       "      <td>0</td>\n",
       "      <td>0</td>\n",
       "      <td>0</td>\n",
       "      <td>1</td>\n",
       "      <td>1</td>\n",
       "      <td>1</td>\n",
       "      <td>0</td>\n",
       "      <td>0</td>\n",
       "      <td>1</td>\n",
       "    </tr>\n",
       "    <tr>\n",
       "      <th>3</th>\n",
       "      <td>based true story years slave chronicles harrow...</td>\n",
       "      <td>0</td>\n",
       "      <td>0</td>\n",
       "      <td>0</td>\n",
       "      <td>1</td>\n",
       "      <td>0</td>\n",
       "      <td>0</td>\n",
       "      <td>0</td>\n",
       "      <td>0</td>\n",
       "      <td>1</td>\n",
       "    </tr>\n",
       "  </tbody>\n",
       "</table>\n",
       "</div>"
      ],
      "text/plain": [
       "                                       plot_synopsis  comedy  cult  flashback  \\\n",
       "0  world teetering brink catastrophe secret agent...       0     0          0   \n",
       "1  set future earth faces environmental collapse ...       0     0          0   \n",
       "2  maximus decimus meridius loyal roman general b...       0     0          0   \n",
       "3  based true story years slave chronicles harrow...       0     0          0   \n",
       "\n",
       "   historical  murder  revenge  romantic  scifi  violence  \n",
       "0           0       1        0         0      1         1  \n",
       "1           0       0        0         0      1         0  \n",
       "2           1       1        1         0      0         1  \n",
       "3           1       0        0         0      0         1  "
      ]
     },
     "execution_count": 52,
     "metadata": {},
     "output_type": "execute_result"
    }
   ],
   "source": [
    "df_test['plot_synopsis'] = df_test['plot_synopsis'].apply(clean_text)\n",
    "df_test.head(4)"
   ]
  },
  {
   "cell_type": "code",
   "execution_count": 48,
   "metadata": {
    "execution": {
     "iopub.execute_input": "2024-11-24T19:59:12.656309Z",
     "iopub.status.busy": "2024-11-24T19:59:12.655927Z",
     "iopub.status.idle": "2024-11-24T19:59:12.662982Z",
     "shell.execute_reply": "2024-11-24T19:59:12.662028Z",
     "shell.execute_reply.started": "2024-11-24T19:59:12.656274Z"
    },
    "trusted": true
   },
   "outputs": [
    {
     "name": "stdout",
     "output_type": "stream",
     "text": [
      "['comedy', 'cult', 'flashback', 'historical', 'murder', 'revenge', 'romantic', 'scifi', 'violence']\n"
     ]
    }
   ],
   "source": [
    "test_dataset = CustomDataset(df_test, tokenizer, MAX_LEN, target_list=target_list)\n",
    "\n",
    "test_data_loader = torch.utils.data.DataLoader(test_dataset,\n",
    "    batch_size=VALID_BATCH_SIZE,\n",
    "    shuffle=False,\n",
    "    num_workers=0\n",
    ")"
   ]
  },
  {
   "cell_type": "code",
   "execution_count": 49,
   "metadata": {
    "execution": {
     "iopub.execute_input": "2024-11-24T19:59:15.974279Z",
     "iopub.status.busy": "2024-11-24T19:59:15.973922Z",
     "iopub.status.idle": "2024-11-24T19:59:16.073896Z",
     "shell.execute_reply": "2024-11-24T19:59:16.072929Z",
     "shell.execute_reply.started": "2024-11-24T19:59:15.974249Z"
    },
    "trusted": true
   },
   "outputs": [],
   "source": [
    "test_predictions = generate_predictions(test_data_loader, trained_model, device)"
   ]
  },
  {
   "cell_type": "code",
   "execution_count": 50,
   "metadata": {
    "execution": {
     "iopub.execute_input": "2024-11-24T19:59:19.001145Z",
     "iopub.status.busy": "2024-11-24T19:59:19.000787Z",
     "iopub.status.idle": "2024-11-24T19:59:19.006419Z",
     "shell.execute_reply": "2024-11-24T19:59:19.005565Z",
     "shell.execute_reply.started": "2024-11-24T19:59:19.001112Z"
    },
    "trusted": true
   },
   "outputs": [],
   "source": [
    "df_test_predictions = pd.DataFrame(test_predictions).astype(int)"
   ]
  },
  {
   "cell_type": "code",
   "execution_count": 51,
   "metadata": {
    "execution": {
     "iopub.execute_input": "2024-11-24T19:59:21.420323Z",
     "iopub.status.busy": "2024-11-24T19:59:21.419463Z",
     "iopub.status.idle": "2024-11-24T19:59:21.429016Z",
     "shell.execute_reply": "2024-11-24T19:59:21.428086Z",
     "shell.execute_reply.started": "2024-11-24T19:59:21.420289Z"
    },
    "trusted": true
   },
   "outputs": [
    {
     "data": {
      "text/html": [
       "<div>\n",
       "<style scoped>\n",
       "    .dataframe tbody tr th:only-of-type {\n",
       "        vertical-align: middle;\n",
       "    }\n",
       "\n",
       "    .dataframe tbody tr th {\n",
       "        vertical-align: top;\n",
       "    }\n",
       "\n",
       "    .dataframe thead th {\n",
       "        text-align: right;\n",
       "    }\n",
       "</style>\n",
       "<table border=\"1\" class=\"dataframe\">\n",
       "  <thead>\n",
       "    <tr style=\"text-align: right;\">\n",
       "      <th></th>\n",
       "      <th>0</th>\n",
       "      <th>1</th>\n",
       "      <th>2</th>\n",
       "      <th>3</th>\n",
       "      <th>4</th>\n",
       "      <th>5</th>\n",
       "      <th>6</th>\n",
       "      <th>7</th>\n",
       "      <th>8</th>\n",
       "    </tr>\n",
       "  </thead>\n",
       "  <tbody>\n",
       "    <tr>\n",
       "      <th>0</th>\n",
       "      <td>0</td>\n",
       "      <td>1</td>\n",
       "      <td>1</td>\n",
       "      <td>0</td>\n",
       "      <td>0</td>\n",
       "      <td>0</td>\n",
       "      <td>0</td>\n",
       "      <td>1</td>\n",
       "      <td>1</td>\n",
       "    </tr>\n",
       "    <tr>\n",
       "      <th>1</th>\n",
       "      <td>0</td>\n",
       "      <td>1</td>\n",
       "      <td>1</td>\n",
       "      <td>0</td>\n",
       "      <td>0</td>\n",
       "      <td>0</td>\n",
       "      <td>1</td>\n",
       "      <td>1</td>\n",
       "      <td>0</td>\n",
       "    </tr>\n",
       "    <tr>\n",
       "      <th>2</th>\n",
       "      <td>0</td>\n",
       "      <td>0</td>\n",
       "      <td>0</td>\n",
       "      <td>1</td>\n",
       "      <td>0</td>\n",
       "      <td>1</td>\n",
       "      <td>1</td>\n",
       "      <td>0</td>\n",
       "      <td>1</td>\n",
       "    </tr>\n",
       "    <tr>\n",
       "      <th>3</th>\n",
       "      <td>0</td>\n",
       "      <td>0</td>\n",
       "      <td>1</td>\n",
       "      <td>1</td>\n",
       "      <td>0</td>\n",
       "      <td>0</td>\n",
       "      <td>1</td>\n",
       "      <td>0</td>\n",
       "      <td>0</td>\n",
       "    </tr>\n",
       "  </tbody>\n",
       "</table>\n",
       "</div>"
      ],
      "text/plain": [
       "   0  1  2  3  4  5  6  7  8\n",
       "0  0  1  1  0  0  0  0  1  1\n",
       "1  0  1  1  0  0  0  1  1  0\n",
       "2  0  0  0  1  0  1  1  0  1\n",
       "3  0  0  1  1  0  0  1  0  0"
      ]
     },
     "execution_count": 51,
     "metadata": {},
     "output_type": "execute_result"
    }
   ],
   "source": [
    "df_test_predictions"
   ]
  }
 ],
 "metadata": {
  "kaggle": {
   "accelerator": "nvidiaTeslaT4",
   "dataSources": [
    {
     "datasetId": 6146355,
     "sourceId": 9987359,
     "sourceType": "datasetVersion"
    },
    {
     "datasetId": 6146372,
     "sourceId": 9987402,
     "sourceType": "datasetVersion"
    },
    {
     "datasetId": 6164856,
     "sourceId": 10013336,
     "sourceType": "datasetVersion"
    }
   ],
   "dockerImageVersionId": 30787,
   "isGpuEnabled": true,
   "isInternetEnabled": true,
   "language": "python",
   "sourceType": "notebook"
  },
  "kernelspec": {
   "display_name": "Python 3",
   "language": "python",
   "name": "python3"
  },
  "language_info": {
   "codemirror_mode": {
    "name": "ipython",
    "version": 3
   },
   "file_extension": ".py",
   "mimetype": "text/x-python",
   "name": "python",
   "nbconvert_exporter": "python",
   "pygments_lexer": "ipython3",
   "version": "3.10.14"
  }
 },
 "nbformat": 4,
 "nbformat_minor": 4
}
